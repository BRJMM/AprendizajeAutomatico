{
  "nbformat": 4,
  "nbformat_minor": 0,
  "metadata": {
    "colab": {
      "provenance": []
    },
    "kernelspec": {
      "name": "python3",
      "display_name": "Python 3"
    },
    "language_info": {
      "name": "python"
    }
  },
  "cells": [
    {
      "cell_type": "code",
      "source": [
        "import torch\n",
        "from torch.distributions import Normal\n",
        "import matplotlib.pyplot as plt\n",
        "import numpy as np\n",
        "import seaborn as sns"
      ],
      "metadata": {
        "id": "Nv6pHEOHS9t1"
      },
      "execution_count": 2,
      "outputs": []
    },
    {
      "cell_type": "code",
      "execution_count": 3,
      "metadata": {
        "colab": {
          "base_uri": "https://localhost:8080/",
          "height": 447
        },
        "id": "MHm9-yRdS2lP",
        "outputId": "980a8602-396a-45de-d6d7-956485dc3e95"
      },
      "outputs": [
        {
          "output_type": "execute_result",
          "data": {
            "text/plain": [
              "[]"
            ]
          },
          "metadata": {},
          "execution_count": 3
        },
        {
          "output_type": "display_data",
          "data": {
            "text/plain": [
              "<Figure size 640x480 with 1 Axes>"
            ],
            "image/png": "[encoded data removed]"
          },
          "metadata": {}
        }
      ],
      "source": [
        "n = 100\n",
        "mu1 = 10.0\n",
        "sigma1 = 3.6\n",
        "mu2 = 30.0\n",
        "sigma2 = 2.6\n",
        "\n",
        "# 1)\n",
        "# Generates data that follows two gaussian distributions based on a set of parameters.\n",
        "def generate_data(n, mu1, sigma1, mu2, sigma2):\n",
        "\n",
        "  # Generate distributions\n",
        "  normal_dist1 = torch.distributions.Normal(torch.tensor([mu1]), torch.tensor([sigma1]))\n",
        "  normal_dist2 = torch.distributions.Normal(torch.tensor([mu2]), torch.tensor([sigma2]))\n",
        "\n",
        "  # Take a sample from each dist\n",
        "  gaussian_sample1 = normal_dist1.sample((n,1)).squeeze()\n",
        "  gaussian_sample2 = normal_dist2.sample((n,1)).squeeze()\n",
        "\n",
        "  # Concatenate the 2 samples\n",
        "  X =  torch.cat((gaussian_sample1, gaussian_sample2))\n",
        "  return X\n",
        "\n",
        "X = generate_data(n, mu1, sigma1, mu2, sigma2)\n",
        "#print(X)\n",
        "\n",
        "# a) Scatter Plot with histograms\n",
        "# Histograms\n",
        "plt.hist(X, bins=50, alpha=0.25, histtype='bar', ec='black')\n",
        "# Scatter\n",
        "plt.scatter(X,torch.zeros(len(X)))\n",
        "# Density\n",
        "# TODO\n",
        "plt.plot()\n",
        "\n"
      ]
    },
    {
      "cell_type": "code",
      "source": [
        "def init_random_parameters(range=50):\n",
        "  return torch.rand((2, 2))*range\n",
        "\n",
        "P = init_random_parameters()\n",
        "print(P)"
      ],
      "metadata": {
        "colab": {
          "base_uri": "https://localhost:8080/"
        },
        "id": "Sff-5SoDps-h",
        "outputId": "13fdc73b-c0f2-49d9-e970-6c1c83d0af09"
      },
      "execution_count": 6,
      "outputs": [
        {
          "output_type": "stream",
          "name": "stdout",
          "text": [
            "tensor([[13.2531, 18.6992],\n",
            "        [46.4031, 48.9600]])\n"
          ]
        }
      ]
    },
    {
      "cell_type": "code",
      "source": [
        "def calculate_log_likelihood_gaussian_observation(x, mu, sigma):\n",
        "  # TODO: (ESTA ES LA QUE HICIMOS EN LA CLASE)\n",
        "  # Nota: tal vez deberíamos poner en el latex el proceso desde la función de likelihood sin log hasta esta versión\n",
        "  N = x.shape[0]\n",
        "  return -(N / 2) * torch.log(torch.tensor(2 * torch.pi)) - N * torch.log(torch.tensor(sigma)) - (1 / (2 * sigma**2)) * torch.sum((x - mu) ** 2)\n",
        "\n",
        "# Esta es la que usamos en la clase del gradient descent\n",
        "def log_likelihood(x_sample, mu, sigma):\n",
        "    N = x_sample.shape[0]\n",
        "    log_likelihood = -N * torch.log(torch.tensor(sigma))  - (1 / (2 * sigma ** 2)) * torch.sum((x_sample - mu) ** 2)\n",
        "    return log_likelihood"
      ],
      "metadata": {
        "id": "-R6ZVtXogNln"
      },
      "execution_count": 5,
      "outputs": []
    }
  ]
}