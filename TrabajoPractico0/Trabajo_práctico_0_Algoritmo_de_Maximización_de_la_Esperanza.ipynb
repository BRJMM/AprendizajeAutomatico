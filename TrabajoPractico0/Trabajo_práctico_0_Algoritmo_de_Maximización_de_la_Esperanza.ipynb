{
  "nbformat": 4,
  "nbformat_minor": 0,
  "metadata": {
    "colab": {
      "provenance": []
    },
    "kernelspec": {
      "name": "python3",
      "display_name": "Python 3"
    },
    "language_info": {
      "name": "python"
    }
  },
  "cells": [
    {
      "cell_type": "code",
      "source": [
        "import torch\n",
        "from torch.distributions import Normal\n",
        "import matplotlib.pyplot as plt\n",
        "import numpy as np\n",
        "import seaborn as sns"
      ],
      "metadata": {
        "id": "Nv6pHEOHS9t1"
      },
      "execution_count": 21,
      "outputs": []
    },
    {
      "cell_type": "code",
      "execution_count": 81,
      "metadata": {
        "colab": {
          "base_uri": "https://localhost:8080/",
          "height": 534
        },
        "id": "MHm9-yRdS2lP",
        "outputId": "20ea17f2-5bd8-44af-fe38-7fe7497febbe"
      },
      "outputs": [
        {
          "output_type": "stream",
          "name": "stdout",
          "text": [
            "X =  tensor([11.1900, 10.3108,  8.4687,  6.5401, 17.4186,  9.7460, 14.0962,  9.3915,\n",
            "         2.4724,  7.4959,  5.4996,  9.7061, 13.8548, 17.2997, 10.4984, 16.7617,\n",
            "        11.6033, 15.0853, 13.6740, 10.3289, 25.4004, 26.2365, 33.4480, 31.5883,\n",
            "        23.7597, 28.3408, 32.7126, 33.2470, 26.8424, 33.8693, 27.6053, 29.2507,\n",
            "        29.3467, 30.8529, 29.7504, 34.9336, 34.7254, 27.8574, 25.7909, 27.6561])\n"
          ]
        },
        {
          "output_type": "execute_result",
          "data": {
            "text/plain": [
              "[]"
            ]
          },
          "metadata": {},
          "execution_count": 81
        },
        {
          "output_type": "display_data",
          "data": {
            "text/plain": [
              "<Figure size 640x480 with 1 Axes>"
            ],
            "image/png": "[encoded data removed]"
          },
          "metadata": {}
        }
      ],
      "source": [
        "n = 20\n",
        "mu1 = 10.0\n",
        "sigma1 = 3.6\n",
        "mu2 = 30.0\n",
        "sigma2 = 2.6\n",
        "\n",
        "# 1)\n",
        "# Generates data that follows two gaussian distributions based on a set of parameters.\n",
        "def generate_data(n, mu1, sigma1, mu2, sigma2):\n",
        "\n",
        "  # Generate distributions\n",
        "  normal_dist1 = torch.distributions.Normal(torch.tensor([mu1]), torch.tensor([sigma1]))\n",
        "  normal_dist2 = torch.distributions.Normal(torch.tensor([mu2]), torch.tensor([sigma2]))\n",
        "\n",
        "  # Take a sample from each dist\n",
        "  gaussian_sample1 = normal_dist1.sample((n,1)).squeeze()\n",
        "  gaussian_sample2 = normal_dist2.sample((n,1)).squeeze()\n",
        "\n",
        "  # Concatenate the 2 samples\n",
        "  X =  torch.cat((gaussian_sample1, gaussian_sample2))\n",
        "  return X\n",
        "\n",
        "X = generate_data(n, mu1, sigma1, mu2, sigma2)\n",
        "print('X = ', X)\n",
        "\n",
        "# a) Scatter Plot with histograms\n",
        "# Histograms\n",
        "plt.hist(X, bins=50, alpha=0.25, histtype='bar', ec='black')\n",
        "# Scatter\n",
        "plt.scatter(X,torch.zeros(len(X)))\n",
        "# Density\n",
        "# TODO\n",
        "plt.plot()\n",
        "\n"
      ]
    },
    {
      "cell_type": "code",
      "source": [
        "# 2)\n",
        "def init_random_parameters(range=50):\n",
        "  return torch.rand((2, 2))*range\n",
        "\n",
        "P = init_random_parameters()\n",
        "print('P = ', P)"
      ],
      "metadata": {
        "colab": {
          "base_uri": "https://localhost:8080/"
        },
        "id": "Sff-5SoDps-h",
        "outputId": "4b2d0774-000d-443e-f09f-e7aa7488a394"
      },
      "execution_count": 75,
      "outputs": [
        {
          "output_type": "stream",
          "name": "stdout",
          "text": [
            "P =  tensor([[ 0.2560,  2.2911],\n",
            "        [ 5.6533, 17.4387]])\n"
          ]
        }
      ]
    },
    {
      "cell_type": "code",
      "source": [
        "# 3)\n",
        "\n",
        "# Este es para todo el dataset\n",
        "def calculate_log_likelihood_gaussian_observation_dataset(x, mu, sigma):\n",
        "  # TODO: (ESTA ES LA QUE HICIMOS EN LA CLASE)\n",
        "  # Nota: tal vez deberíamos poner en el latex el proceso desde la función de likelihood sin log hasta esta versión\n",
        "  N = x.shape[0]\n",
        "  return -(N / 2) * torch.log(torch.tensor(2 * torch.pi)) - N * torch.log(torch.tensor(sigma)) - (1 / (2 * sigma**2)) * torch.sum((x - mu) ** 2)\n",
        "\n",
        "# Esta es la que usamos en la clase del gradient descent\n",
        "def log_likelihood(x_sample, mu, sigma):\n",
        "    N = x_sample.shape[0]\n",
        "    log_likelihood = -N * torch.log(torch.tensor(sigma))  - (1 / (2 * sigma ** 2)) * torch.sum((x_sample - mu) ** 2)\n",
        "    return log_likelihood\n",
        "\n",
        "likelihood_test1 = calculate_log_likelihood_gaussian_observation_dataset(X, mu1, sigma1)\n",
        "likelihood_test2 = log_likelihood(X, mu1, sigma1)\n",
        "\n",
        "def calculate_log_likelihood_gaussian_observation(x_n, mu_k, sigma_k):\n",
        "  # Nota: tal vez deberíamos poner en el latex el proceso desde la función de likelihood sin log hasta esta versión\n",
        "  return -(1 / 2) * torch.log(torch.tensor(2 * torch.pi)) - 1 * torch.log(torch.tensor(sigma_k)) - (1 / (2 * sigma_k**2)) * torch.sum((x_n - mu_k) ** 2)\n",
        "\n",
        "likelihood_test3 = calculate_log_likelihood_gaussian_observation(X[0], mu1, sigma1)\n",
        "\n",
        "print('likelihood_test 1 = ', likelihood_test1 )\n",
        "print('likelihood_test 2 = ', likelihood_test2 )\n",
        "print('likelihood_test 3 = ', likelihood_test3 )\n"
      ],
      "metadata": {
        "id": "-R6ZVtXogNln",
        "colab": {
          "base_uri": "https://localhost:8080/"
        },
        "outputId": "13d39083-9f52-43db-c2c2-3006a3e0ec7b"
      },
      "execution_count": 44,
      "outputs": [
        {
          "output_type": "stream",
          "name": "stdout",
          "text": [
            "likelihood_test 1 =  tensor(-40.0467)\n",
            "likelihood_test 2 =  tensor(-36.3709)\n",
            "likelihood_test 3 =  tensor(-2.2086)\n"
          ]
        }
      ]
    },
    {
      "cell_type": "code",
      "source": [
        "# 4)\n",
        "def calculate_membership_dataset(X_dataset, Parameters_matrix):\n",
        "  N = len(X_dataset)\n",
        "  #print(N)\n",
        "  M = torch.zeros(N, 2) # deberíamos usar K en vez de 2?\n",
        "\n",
        "  # for each element in X, calculate its likelyhood with each set of parameters from the Parameter Matrix and store the maximum\n",
        "  for x in range(N):\n",
        "    # set max likelyhood initially as a very low number (Me suena que esto también podría ponerse de una mejor forma)\n",
        "    x_max_likelyhood = -999999999\n",
        "    max_membership = 0\n",
        "    # iterate over the parameter sets to find which set achieves max likelihood over x\n",
        "    for membership, parameters in enumerate(Parameters_matrix):\n",
        "      #print('Debug: x = ', X_dataset[x], 'params = ', parameters[0], parameters[1])\n",
        "      x_likelyhood = calculate_log_likelihood_gaussian_observation(X_dataset[x], parameters[0], parameters[1])\n",
        "      #print('Debug: x_likelyhood = ', x_likelyhood)\n",
        "      if x_likelyhood > x_max_likelyhood:\n",
        "        x_max_likelyhood = x_likelyhood\n",
        "        #print('Debug: max likelyhood = ', x_max_likelyhood)\n",
        "        max_membership = membership\n",
        "    M[x][max_membership] = 1\n",
        "\n",
        "  return M\n",
        "\n",
        "M = calculate_membership_dataset(X, P)\n",
        "print('M = ', M)"
      ],
      "metadata": {
        "colab": {
          "base_uri": "https://localhost:8080/"
        },
        "id": "tOQdegoVyBos",
        "outputId": "0bb13901-e6fa-49a0-b5a0-e6dee8d518a4"
      },
      "execution_count": 82,
      "outputs": [
        {
          "output_type": "stream",
          "name": "stdout",
          "text": [
            "M =  tensor([[0., 1.],\n",
            "        [0., 1.],\n",
            "        [0., 1.],\n",
            "        [0., 1.],\n",
            "        [0., 1.],\n",
            "        [0., 1.],\n",
            "        [0., 1.],\n",
            "        [0., 1.],\n",
            "        [1., 0.],\n",
            "        [0., 1.],\n",
            "        [0., 1.],\n",
            "        [0., 1.],\n",
            "        [0., 1.],\n",
            "        [0., 1.],\n",
            "        [0., 1.],\n",
            "        [0., 1.],\n",
            "        [0., 1.],\n",
            "        [0., 1.],\n",
            "        [0., 1.],\n",
            "        [0., 1.],\n",
            "        [0., 1.],\n",
            "        [0., 1.],\n",
            "        [0., 1.],\n",
            "        [0., 1.],\n",
            "        [0., 1.],\n",
            "        [0., 1.],\n",
            "        [0., 1.],\n",
            "        [0., 1.],\n",
            "        [0., 1.],\n",
            "        [0., 1.],\n",
            "        [0., 1.],\n",
            "        [0., 1.],\n",
            "        [0., 1.],\n",
            "        [0., 1.],\n",
            "        [0., 1.],\n",
            "        [0., 1.],\n",
            "        [0., 1.],\n",
            "        [0., 1.],\n",
            "        [0., 1.],\n",
            "        [0., 1.]])\n"
          ]
        },
        {
          "output_type": "stream",
          "name": "stderr",
          "text": [
            "<ipython-input-44-d30bf0b2e60a>:21: UserWarning: To copy construct from a tensor, it is recommended to use sourceTensor.clone().detach() or sourceTensor.clone().detach().requires_grad_(True), rather than torch.tensor(sourceTensor).\n",
            "  return -(1 / 2) * torch.log(torch.tensor(2 * torch.pi)) - 1 * torch.log(torch.tensor(sigma_k)) - (1 / (2 * sigma_k**2)) * torch.sum((x_n - mu_k) ** 2)\n"
          ]
        }
      ]
    }
  ]
}