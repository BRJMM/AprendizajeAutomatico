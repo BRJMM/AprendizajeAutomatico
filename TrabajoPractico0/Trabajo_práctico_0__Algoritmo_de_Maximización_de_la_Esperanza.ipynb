{
  "nbformat": 4,
  "nbformat_minor": 0,
  "metadata": {
    "colab": {
      "provenance": []
    },
    "kernelspec": {
      "name": "python3",
      "display_name": "Python 3"
    },
    "language_info": {
      "name": "python"
    }
  },
  "cells": [
    {
      "cell_type": "code",
      "source": [
        "import torch\n",
        "from torch.distributions import Normal\n",
        "import matplotlib.pyplot as plt\n",
        "import numpy as np\n",
        "import seaborn as sns"
      ],
      "metadata": {
        "id": "Nv6pHEOHS9t1"
      },
      "execution_count": 26,
      "outputs": []
    },
    {
      "cell_type": "code",
      "execution_count": 28,
      "metadata": {
        "colab": {
          "base_uri": "https://localhost:8080/",
          "height": 638
        },
        "id": "MHm9-yRdS2lP",
        "outputId": "962509bc-982c-417f-e519-745bc7dcd149"
      },
      "outputs": [
        {
          "output_type": "stream",
          "name": "stderr",
          "text": [
            "<ipython-input-28-c9d87ae24ee0>:31: UserWarning: \n",
            "\n",
            "`distplot` is a deprecated function and will be removed in seaborn v0.14.0.\n",
            "\n",
            "Please adapt your code to use either `displot` (a figure-level function with\n",
            "similar flexibility) or `histplot` (an axes-level function for histograms).\n",
            "\n",
            "For a guide to updating your code to use the new functions, please see\n",
            "https://gist.github.com/mwaskom/de44147ed2974457ad6372750bbe5751\n",
            "\n",
            "  sns.distplot(a=X, bins=40, color='purple',\n"
          ]
        },
        {
          "output_type": "execute_result",
          "data": {
            "text/plain": [
              "[]"
            ]
          },
          "metadata": {},
          "execution_count": 28
        },
        {
          "output_type": "display_data",
          "data": {
            "text/plain": [
              "<Figure size 640x480 with 1 Axes>"
            ],
            "image/png": "[encoded data removed]"
          },
          "metadata": {}
        }
      ],
      "source": [
        "n = 100\n",
        "mu1 = 10.0\n",
        "sigma1 = 3.6\n",
        "mu2 = 30.0\n",
        "sigma2 = 2.6\n",
        "\n",
        "# Generates data that follows two gaussian distributions based on a set of parameters.\n",
        "def generate_data(n, mu1, sigma1, mu2, sigma2):\n",
        "\n",
        "  # Generate distributions\n",
        "  normal_dist1 = torch.distributions.Normal(torch.tensor([mu1]), torch.tensor([sigma1]))\n",
        "  normal_dist2 = torch.distributions.Normal(torch.tensor([mu2]), torch.tensor([sigma2]))\n",
        "\n",
        "  # Take a sample from each dist\n",
        "  gaussian_sample1 = normal_dist1.sample((n,1)).squeeze()\n",
        "  gaussian_sample2 = normal_dist2.sample((n,1)).squeeze()\n",
        "\n",
        "  # Concatenate the 2 samples\n",
        "  X =  torch.cat((gaussian_sample1, gaussian_sample2))\n",
        "  return X\n",
        "\n",
        "X = generate_data(n, mu1, sigma1, mu2, sigma2)\n",
        "#print(X)\n",
        "\n",
        "# a) Scatter Plot with histograms\n",
        "# Histograms\n",
        "plt.hist(X, bins=50, alpha=0.25, histtype='bar', ec='black')\n",
        "# Scatter\n",
        "plt.scatter(X,torch.zeros(len(X)))\n",
        "# Density\n",
        "# TODO\n",
        "plt.plot()\n",
        "\n"
      ]
    },
    {
      "cell_type": "code",
      "source": [
        "def calculate_likelihood_gaussian_observation(x_n,mu_k, sigma_k):\n",
        "  # TODO: (ESTA ES LA QUE HICIMOS EN LA CLASE)\n",
        "  N = x.shape[0]\n",
        "  return -(N / 2) * torch.log(torch.tensor(2 * torch.pi)) - N * torch.log(torch.tensor(sigma)) - (1 / (2 * sigma**2)) * torch.sum((x - mu) ** 2)\n"
      ],
      "metadata": {
        "id": "-R6ZVtXogNln"
      },
      "execution_count": null,
      "outputs": []
    }
  ]
}