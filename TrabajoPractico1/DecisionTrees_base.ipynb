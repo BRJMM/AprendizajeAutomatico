{
  "cells": [
    {
      "cell_type": "code",
      "execution_count": 2,
      "metadata": {
        "id": "xqkkxFwaR6uO"
      },
      "outputs": [],
      "source": [
        "import torch\n",
        "import pandas\n",
        "import numpy as np"
      ]
    },
    {
      "cell_type": "code",
      "execution_count": 3,
      "metadata": {
        "id": "1YOCBIryR6uR"
      },
      "outputs": [],
      "source": [
        "import pandas\n",
        "#dataset taken from https://www.kaggle.com/yashsawarn/wifi-stretgth-for-rooms\n",
        "\n",
        "def read_dataset(csv_name = 'wifi_localization.txt'):\n",
        "    \"\"\"\n",
        "    Reads a csv dataset\n",
        "    returns it as a pytorch tensor\n",
        "    \"\"\"\n",
        "    data_frame = pandas.read_table(csv_name, delim_whitespace=True, names=('A', 'B', 'C', 'D','E', 'F', 'G', 'ROOM'),\n",
        "                       dtype={'A': np.int64, 'B': np.float64, 'C': np.float64, 'D': np.float64,'E': np.float64,'F': np.float64,'G': np.float64,'ROOM': np.float64})\n",
        "\n",
        "    targets_torch = torch.tensor(data_frame['ROOM'].values)\n",
        "    dataset_torch = torch.tensor(data_frame.values)\n",
        "\n",
        "    return dataset_torch\n",
        "dataset_torch = read_dataset()\n",
        "\n"
      ]
    },
    {
      "cell_type": "code",
      "execution_count": 4,
      "metadata": {
        "id": "h4N01puxR6uR",
        "outputId": "cda08844-94bb-4f3b-b92a-19e155814a54"
      },
      "outputs": [
        {
          "name": "stdout",
          "output_type": "stream",
          "text": [
            "tensor([[-64., -56., -61.,  ..., -82., -81.,   1.],\n",
            "        [-68., -57., -61.,  ..., -85., -85.,   1.],\n",
            "        [-63., -60., -60.,  ..., -85., -84.,   1.],\n",
            "        ...,\n",
            "        [-62., -59., -46.,  ..., -87., -88.,   4.],\n",
            "        [-62., -58., -52.,  ..., -90., -85.,   4.],\n",
            "        [-59., -50., -45.,  ..., -88., -87.,   4.]], dtype=torch.float64)\n"
          ]
        }
      ],
      "source": [
        "print(dataset_torch)"
      ]
    },
    {
      "cell_type": "code",
      "execution_count": 169,
      "metadata": {
        "id": "EZ8GFkT5R6uS"
      },
      "outputs": [],
      "source": [
        "class Node_CART:\n",
        "    def __init__(self, num_classes = 4, ref_CART = None, current_depth = 0):\n",
        "        \"\"\"\n",
        "        Create the node attributes\n",
        "        param num_classes: K number of classes to classify\n",
        "        param ref_cart: reference to the tree containing the node\n",
        "        param current_depth: current depth of the node in the tree\n",
        "        \"\"\"\n",
        "        self.ref_CART = ref_CART\n",
        "        self.threshold_value = 0\n",
        "        self.feature_num = 0\n",
        "        self.node_right = None\n",
        "        self.node_left = None\n",
        "        self.data_torch_partition = None\n",
        "        self.gini = 0\n",
        "        self.dominant_class = None\n",
        "        self.accuracy_dominant_class = None\n",
        "        self.num_classes = num_classes\n",
        "        self.current_depth = current_depth\n",
        "\n",
        "    def to_xml(self, current_str = \"\"):\n",
        "        \"\"\"\n",
        "        Recursive function to write the node content to an xml formatted string\n",
        "        param current_str : the xml content so far in the whole tree\n",
        "        return the string with the node content\n",
        "        \"\"\"\n",
        "        str_node = \"<node><thresh>\" + str(self.threshold_value) + \"</thresh>\" + \"<feature>\" + str(self.feature_num) + \"</feature><depth>\" + str(self.current_depth)+ \"</depth>\"\n",
        "        str_node += \"<gini>\" + str(self.gini) + \"</gini>\"\n",
        "        if(self.node_right != None):\n",
        "            str_left = self.node_right.to_xml(current_str)\n",
        "            str_node += str_left\n",
        "        if(self.node_left != None):\n",
        "            str_right = self.node_left.to_xml(current_str)\n",
        "            str_node += str_right\n",
        "\n",
        "        if(self.is_leaf()):\n",
        "            str_node += \"<dominant_class>\" + str(self.dominant_class) + \"</dominant_class><acc_dominant_class>\"  + str(self.accuracy_dominant_class) + \"</acc_dominant_class>\"\n",
        "        str_node += \"</node>\"\n",
        "        return str_node\n",
        "\n",
        "    def is_leaf(self):\n",
        "        \"\"\"\n",
        "        Checks whether the node is a leaf\n",
        "        \"\"\"\n",
        "        return (self.node_left == None and self.node_right == None)\n",
        "\n",
        "    def create_with_children(self, data_torch, current_depth, list_selected_features = [], min_gini = 0.000001):\n",
        "        \"\"\"\n",
        "        Creates a node by selecting the best feature and threshold, and if needed, creating its children\n",
        "        param data_torch: dataset with the current partition to deal with in the node\n",
        "        param current_depth: depth counter for the node\n",
        "        param list_selected_features: list of selected features so far for the CART building process\n",
        "        param min_gini: hyperparmeter selected by the user defining the minimum tolerated gini coefficient for a  node\n",
        "        return the list of selected features so far\n",
        "        \"\"\"\n",
        "\n",
        "\n",
        "        return list_selected_features\n",
        "\n",
        "    def calculate_gini(self, data_partition_torch: torch.tensor, num_classes: int = 4):\n",
        "        \"\"\"\n",
        "        Calculates the gini coefficient for a given partition with the given number of classes\n",
        "        param data_partition_torch: current dataset partition as a tensor\n",
        "        param num_classes: K number of classes to discriminate from\n",
        "        returns the calculated gini coefficient\n",
        "        \"\"\"\n",
        "        ROOM_COLUMN_INDEX = 7\n",
        "        class_counts = torch.bincount(data_partition_torch[:, ROOM_COLUMN_INDEX], minlength=num_classes + 1)\n",
        "        class_counts = class_counts[1:]\n",
        "        class_probabilities = class_counts.float() / data_partition_torch.shape[0]\n",
        "        gini_coef = 1.0 - torch.sum(class_probabilities ** 2)\n",
        "        return gini_coef\n",
        "\n",
        "    def calculate_entropy(self, data_partition_torch, num_classes = 4):\n",
        "        \"\"\"\n",
        "        Calculates the entropy for a given partition with the given number of classes\n",
        "        param data_partition_torch: current dataset partition as a tensor\n",
        "        param num_classes: K number of classes to discriminate from\n",
        "        returns the calculated entropy\n",
        "        \"\"\"\n",
        "        ROOM_COLUMN_INDEX = 7\n",
        "        class_counts = torch.bincount(data_partition_torch[:, ROOM_COLUMN_INDEX], minlength=num_classes + 1)\n",
        "        class_counts = class_counts[1:]\n",
        "        p_k = class_counts.float() / data_partition_torch.shape[0]\n",
        "        p_k[p_k == 0.0] = 1.0 # Remove 0 value, since log2(0) = -inf and log2(1) = 0\n",
        "        return -1*torch.sum(p_k*torch.log2(p_k))\n",
        "\n",
        "    def evaluate_node(self, input_torch):\n",
        "        \"\"\"\n",
        "        Evaluates an input observation within the node.\n",
        "        If is not a leaf node, send it to the corresponding node\n",
        "        return predicted label\n",
        "        \"\"\"\n",
        "        feature_val_input = input_torch[self.feature_num]\n",
        "        if(self.is_leaf()):\n",
        "            return self.dominant_class\n",
        "        else:\n",
        "            if(feature_val_input < self.threshold_value):\n",
        "                return self.node_left.evaluate_node(input_torch)\n",
        "            else:\n",
        "                return self.node_right.evaluate_node(input_torch)\n",
        "\n",
        "    def evaluate_optimal_gini(self, right_data_partition: torch.tensor,\n",
        "                              left_data_partition: torch.tensor,\n",
        "                              n_data_partition: int,\n",
        "                              num_classes: int):\n",
        "        return (right_data_partition.shape[0]/n_data_partition) * self.calculate_gini(right_data_partition, num_classes).item() + \\\n",
        "                (left_data_partition.shape[0]/n_data_partition) * self.calculate_gini(left_data_partition, num_classes).item()\n",
        "\n",
        "    def select_best_feature_and_thresh(self, data_torch, list_features_selected = [], num_classes = 4):\n",
        "        \"\"\"\n",
        "        Selects the best feature and threshold that minimizes the gini coefficient\n",
        "        param data_torch: dataset partition to analyze\n",
        "        param list_features_selected list of features selected so far, thus must be ignored\n",
        "        param num_classes: number of K classes to discriminate from\n",
        "        return min_thresh, min_feature, min_gini found for the dataset partition when\n",
        "        selecting the found feature and threshold\n",
        "        \"\"\"\n",
        "\n",
        "        min_thresh = float('inf')\n",
        "        min_feature = float('inf')\n",
        "        min_gini = float('inf')\n",
        "\n",
        "        total_data_torch = data_torch.shape[1]\n",
        "\n",
        "        # -1 to ignore label\n",
        "        for feature in range(total_data_torch - 1):\n",
        "          if (feature not in list_features_selected):\n",
        "            for threshold in data_torch[:, feature]:\n",
        "              # todo: <=, <?\n",
        "              left_data = data_torch[data_torch[:,feature] <= threshold]\n",
        "              right_data = data_torch[data_torch[:,feature] > threshold]\n",
        "              # solution to avoid division by 0 in calculate_gini in case a partition has 0 elements\n",
        "              if (left_data.shape[0] > 0 and right_data.shape[0] > 0):\n",
        "                weighted_gini = self.evaluate_optimal_gini(right_data, left_data, total_data_torch, num_classes)\n",
        "                if (weighted_gini < min_gini):\n",
        "                  min_thresh = threshold\n",
        "                  min_feature = feature\n",
        "                  min_gini = weighted_gini\n",
        "        return (min_thresh, min_feature, min_gini)\n",
        "\n",
        "\n",
        "class CART:\n",
        "    def __init__(self, dataset_torch, max_CART_depth, min_observations = 2):\n",
        "        \"\"\"\n",
        "        CART has only one root node\n",
        "        \"\"\"\n",
        "        #min observations per node\n",
        "        self.min_observations = min_observations\n",
        "        self.root = Node_CART(num_classes = 4, ref_CART = self, current_depth = 0)\n",
        "        self.max_CART_depth = max_CART_depth\n",
        "        self.list_selected_features = []\n",
        "\n",
        "    def get_root(self):\n",
        "        \"\"\"\n",
        "        Gets tree root\n",
        "        \"\"\"\n",
        "        return self.root\n",
        "\n",
        "    def get_min_observations(self):\n",
        "        \"\"\"\n",
        "        return min observations per node\n",
        "        \"\"\"\n",
        "        return self.min_observations\n",
        "\n",
        "    def get_max_depth(self):\n",
        "        \"\"\"\n",
        "        Gets the selected max depth of the tree\n",
        "        \"\"\"\n",
        "        return self.max_CART_depth\n",
        "\n",
        "    def build_CART(self, data_torch):\n",
        "        \"\"\"\n",
        "        Build CART from root\n",
        "        \"\"\"\n",
        "        self.list_selected_features = self.root.create_with_children(data_torch, current_depth = 0)\n",
        "\n",
        "    def to_xml(self, xml_file_name):\n",
        "        \"\"\"\n",
        "        write Xml file with tree content\n",
        "        \"\"\"\n",
        "        str_nodes = self.root.to_xml()\n",
        "        file = open(xml_file_name,\"w+\")\n",
        "        file.write(str_nodes)\n",
        "        file.close()\n",
        "        return str_nodes\n",
        "\n",
        "    def evaluate_input(self, input_torch):\n",
        "        \"\"\"\n",
        "        Evaluate a specific input in the tree and get the predicted class\n",
        "        \"\"\"\n",
        "        return self.root.evaluate_node(input_torch)\n",
        "\n",
        "def train_CART(dataset_torch, name_xml = \"\", max_CART_depth = 3, min_obs_per_leaf = 2):\n",
        "    \"\"\"\n",
        "    Train CART model\n",
        "    \"\"\"\n",
        "    tree = CART(dataset_torch = dataset_torch, max_CART_depth = max_CART_depth, min_observations =  min_obs_per_leaf)\n",
        "    tree.build_CART(dataset_torch)\n",
        "    if(not name_xml == \"\"):\n",
        "        tree.to_xml(name_xml)\n",
        "    return tree\n",
        "\n",
        "def test_CART(tree, testset_torch):\n",
        "    \"\"\"\n",
        "    Test a previously built CART\n",
        "    \"\"\"\n",
        "    #TODO, use tree.evaluate_input(current_observation) for this\n",
        "    return accuracy"
      ]
    },
    {
      "cell_type": "markdown",
      "metadata": {
        "id": "9ZDmgW8mR6uT"
      },
      "source": [
        "## Gini Unit Test"
      ]
    },
    {
      "cell_type": "code",
      "execution_count": 38,
      "metadata": {
        "colab": {
          "base_uri": "https://localhost:8080/"
        },
        "id": "qQfzXD_TR6uU",
        "outputId": "efbda156-9342-42f6-d936-48dfcf733949"
      },
      "outputs": [],
      "source": [
        "import unittest\n",
        "\n",
        "class GiniUnitTest(unittest.TestCase):\n",
        "\n",
        "    def test_singleClassOneData(self):\n",
        "      data = torch.tensor([[-64, -56,\t-61,\t-66,\t-71,\t-82,\t-81,\t1]])\n",
        "      node = Node_CART()\n",
        "      gini_result = node.calculate_gini(data, num_classes=1)\n",
        "      self.assertTrue(torch.equal(gini_result, torch.tensor(0.0)))\n",
        "\n",
        "    def test_twoClassesOneDataPerClass(self):\n",
        "      data = torch.tensor([[-64, -56,\t-61,\t-66,\t-71,\t-82,\t-81,\t1], [-64, -56,\t-61,\t-66,\t-71,\t-82,\t-81,\t2]])\n",
        "      node = Node_CART()\n",
        "      gini_result = node.calculate_gini(data, num_classes=2)\n",
        "      self.assertTrue(torch.equal(gini_result, torch.tensor(0.5)))\n",
        "\n",
        "    def test_twoClassesOnlyOneClassWithData(self):\n",
        "      data = torch.tensor([[-64, -56,\t-61,\t-66,\t-71,\t-82,\t-81,\t1], [-64, -56,\t-61,\t-66,\t-71,\t-82,\t-81,\t1]])\n",
        "      node = Node_CART()\n",
        "      gini_result = node.calculate_gini(data, num_classes=2)\n",
        "      self.assertTrue(torch.equal(gini_result, torch.tensor(0.0)))\n",
        "\n",
        "    def test_fourClassesOneDataPerClass(self):\n",
        "      data = torch.tensor([[-64, -56,\t-61,\t-66,\t-71,\t-82,\t-81,\t1], [-64, -56,\t-61,\t-66,\t-71,\t-82,\t-81,\t2], [-64, -56,\t-61,\t-66,\t-71,\t-82,\t-81,\t3], [-64, -56,\t-61,\t-66,\t-71,\t-82,\t-81,\t4]])\n",
        "      node = Node_CART()\n",
        "      gini_result = node.calculate_gini(data, num_classes=4)\n",
        "      self.assertTrue(torch.equal(gini_result, torch.tensor(0.75)))\n",
        "\n",
        "    def test_fourClassesOnlyTwoClassesWithData(self):\n",
        "      data = torch.tensor([[-64, -56,\t-61,\t-66,\t-71,\t-82,\t-81,\t1], [-64, -56,\t-61,\t-66,\t-71,\t-82,\t-81,\t1], [-64, -56,\t-61,\t-66,\t-71,\t-82,\t-81,\t4], [-64, -56,\t-61,\t-66,\t-71,\t-82,\t-81,\t4]])\n",
        "      node = Node_CART()\n",
        "      gini_result = node.calculate_gini(data, num_classes=4)\n",
        "      self.assertTrue(torch.equal(gini_result, torch.tensor(0.5)))\n",
        "\n",
        "    def test_fourClassesOnlyThreeClassesWithData(self):\n",
        "      data = torch.tensor([[-64, -56,\t-61,\t-66,\t-71,\t-82,\t-81,\t1], [-64, -56,\t-61,\t-66,\t-71,\t-82,\t-81,\t1], [-64, -56,\t-61,\t-66,\t-71,\t-82,\t-81,\t3], [-64, -56,\t-61,\t-66,\t-71,\t-82,\t-81,\t4]])\n",
        "      node = Node_CART()\n",
        "      gini_result = node.calculate_gini(data, num_classes=4)\n",
        "      self.assertTrue(torch.equal(gini_result, torch.tensor(0.625)))"
      ]
    },
    {
      "cell_type": "markdown",
      "metadata": {
        "id": "e49nDiY_VPKs"
      },
      "source": [
        "## Entropy Unit Test"
      ]
    },
    {
      "cell_type": "code",
      "execution_count": 163,
      "metadata": {
        "colab": {
          "base_uri": "https://localhost:8080/"
        },
        "id": "-o61zW_bVOCh",
        "outputId": "b0036ddc-9346-4517-c139-4a655e25f157"
      },
      "outputs": [],
      "source": [
        "class EntropyUnitTest(unittest.TestCase):\n",
        "    def test_twoClasses5and9(self):\n",
        "      data = torch.tensor([\n",
        "        [-64, -56,\t-61,\t-66,\t-71,\t-82,\t-81,\t1],\n",
        "        [-64, -56,\t-61,\t-66,\t-71,\t-82,\t-81,\t1],\n",
        "        [-64, -56,\t-61,\t-66,\t-71,\t-82,\t-81,\t1],\n",
        "        [-64, -56,\t-61,\t-66,\t-71,\t-82,\t-81,\t1],\n",
        "        [-64, -56,\t-61,\t-66,\t-71,\t-82,\t-81,\t1],\n",
        "        [-64, -56,\t-61,\t-66,\t-71,\t-82,\t-81,\t2],\n",
        "        [-64, -56,\t-61,\t-66,\t-71,\t-82,\t-81,\t2],\n",
        "        [-64, -56,\t-61,\t-66,\t-71,\t-82,\t-81,\t2],\n",
        "        [-64, -56,\t-61,\t-66,\t-71,\t-82,\t-81,\t2],\n",
        "        [-64, -56,\t-61,\t-66,\t-71,\t-82,\t-81,\t2],\n",
        "        [-64, -56,\t-61,\t-66,\t-71,\t-82,\t-81,\t2],\n",
        "        [-64, -56,\t-61,\t-66,\t-71,\t-82,\t-81,\t2],\n",
        "        [-64, -56,\t-61,\t-66,\t-71,\t-82,\t-81,\t2],\n",
        "        [-64, -56,\t-61,\t-66,\t-71,\t-82,\t-81,\t2]\n",
        "      ])\n",
        "      node = Node_CART()\n",
        "      entropy_result = node.calculate_entropy(data, num_classes=2)\n",
        "      self.assertAlmostEqual(entropy_result.item(), 0.94, delta=0.01)\n",
        "\n",
        "    def test_twoClassesEqualItems(self):\n",
        "      data = torch.tensor([\n",
        "        [-64, -56,\t-61,\t-66,\t-71,\t-82,\t-81,\t1],\n",
        "        [-64, -56,\t-61,\t-66,\t-71,\t-82,\t-81,\t1],\n",
        "        [-64, -56,\t-61,\t-66,\t-71,\t-82,\t-81,\t2],\n",
        "        [-64, -56,\t-61,\t-66,\t-71,\t-82,\t-81,\t2]\n",
        "      ])\n",
        "      node = Node_CART()\n",
        "      entropy_result = node.calculate_entropy(data, num_classes=2)\n",
        "      self.assertAlmostEqual(entropy_result.item(), 1.0, delta=0.01)\n",
        "\n",
        "    def test_twoClassesAllItemsOneClass(self):\n",
        "      data = torch.tensor([\n",
        "        [-64, -56,\t-61,\t-66,\t-71,\t-82,\t-81,\t1],\n",
        "        [-64, -56,\t-61,\t-66,\t-71,\t-82,\t-81,\t1],\n",
        "        [-64, -56,\t-61,\t-66,\t-71,\t-82,\t-81,\t1],\n",
        "        [-64, -56,\t-61,\t-66,\t-71,\t-82,\t-81,\t1]\n",
        "      ])\n",
        "      node = Node_CART()\n",
        "      entropy_result = node.calculate_entropy(data, num_classes=2)\n",
        "      self.assertAlmostEqual(entropy_result.item(), 0.0, delta=0.01)"
      ]
    },
    {
      "cell_type": "markdown",
      "metadata": {
        "id": "pRWjEzAGOQUn"
      },
      "source": [
        "## Feat and Thresh Selection Unit test"
      ]
    },
    {
      "cell_type": "code",
      "execution_count": 179,
      "metadata": {
        "colab": {
          "base_uri": "https://localhost:8080/"
        },
        "id": "g76Z6KvONS8A",
        "outputId": "b44cb6c4-83d8-43a4-9fa5-6d5b38248c55"
      },
      "outputs": [],
      "source": [
        "class BestFeatAndThreshUnitTest(unittest.TestCase):\n",
        "\n",
        "    def test_optimal_gini(self):\n",
        "      right_data = torch.tensor([[-64, -56,\t-61,\t-66,\t-71,\t-82,\t-81,\t1], [-64, -56,\t-61,\t-66,\t-71,\t-82,\t-81,\t2], [-64, -56,\t-61,\t-66,\t-71,\t-82,\t-81,\t3], [-64, -56,\t-61,\t-66,\t-71,\t-82,\t-81,\t4]])\n",
        "      left_data = torch.tensor([[-64, -56,\t-61,\t-66,\t-71,\t-82,\t-81,\t1], [-64, -56,\t-61,\t-66,\t-71,\t-82,\t-81,\t1], [-64, -56,\t-61,\t-66,\t-71,\t-82,\t-81,\t3], [-64, -56,\t-61,\t-66,\t-71,\t-82,\t-81,\t4]])\n",
        "      node = Node_CART()\n",
        "      result = node.evaluate_optimal_gini(right_data, left_data, n_data_partition=8, num_classes=4)\n",
        "      self.assertEqual(result, 0.6875)\n",
        "\n",
        "    def test_twoClassesOneDataPerClass(self):\n",
        "      data = torch.tensor([ [-64, -56,\t-61,\t-66,\t-71,\t-82,\t-81,  1],\n",
        "                            [-50, -14,\t-1,\t-90,\t-100,\t-80,\t-84,\t2],\n",
        "                            [-25, -50,\t-100,\t-9,\t-10,\t-85,\t-70,\t2],\n",
        "                            [-64, -56,\t-61,\t-66,\t-71,\t-82,\t-81,  1]])\n",
        "      node = Node_CART()\n",
        "      ((min_thresh, min_feature, min_gini)) = node.select_best_feature_and_thresh(data, num_classes=2)\n",
        "      self.assertEqual(min_thresh, torch.tensor(-64))\n",
        "      self.assertEqual(min_feature, torch.tensor(0.0))\n",
        "      self.assertEqual(min_gini, torch.tensor(0.0))"
      ]
    },
    {
      "cell_type": "markdown",
      "metadata": {},
      "source": [
        "## Execute Unit Tests"
      ]
    },
    {
      "cell_type": "code",
      "execution_count": 180,
      "metadata": {},
      "outputs": [
        {
          "name": "stderr",
          "output_type": "stream",
          "text": [
            "test_optimal_gini (__main__.BestFeatAndThreshUnitTest.test_optimal_gini) ... ok\n",
            "test_twoClassesOneDataPerClass (__main__.BestFeatAndThreshUnitTest.test_twoClassesOneDataPerClass) ... ok\n",
            "test_twoClasses5and9 (__main__.EntropyUnitTest.test_twoClasses5and9) ... ok\n",
            "test_twoClassesAllItemsOneClass (__main__.EntropyUnitTest.test_twoClassesAllItemsOneClass) ... ok\n",
            "test_twoClassesEqualItems (__main__.EntropyUnitTest.test_twoClassesEqualItems) ... ok\n",
            "test_fourClassesOneDataPerClass (__main__.GiniUnitTest.test_fourClassesOneDataPerClass) ... ok\n",
            "test_fourClassesOnlyThreeClassesWithData (__main__.GiniUnitTest.test_fourClassesOnlyThreeClassesWithData) ... ok\n",
            "test_fourClassesOnlyTwoClassesWithData (__main__.GiniUnitTest.test_fourClassesOnlyTwoClassesWithData) ... ok\n",
            "test_singleClassOneData (__main__.GiniUnitTest.test_singleClassOneData) ... ok\n",
            "test_twoClassesOneDataPerClass (__main__.GiniUnitTest.test_twoClassesOneDataPerClass) ... ok\n",
            "test_twoClassesOnlyOneClassWithData (__main__.GiniUnitTest.test_twoClassesOnlyOneClassWithData) ... ok\n",
            "\n",
            "----------------------------------------------------------------------\n",
            "Ran 11 tests in 0.013s\n",
            "\n",
            "OK\n"
          ]
        },
        {
          "data": {
            "text/plain": [
              "<unittest.main.TestProgram at 0x7fc6bf9b9150>"
            ]
          },
          "execution_count": 180,
          "metadata": {},
          "output_type": "execute_result"
        }
      ],
      "source": [
        "unittest.main(argv=[''], verbosity=2, exit=False)"
      ]
    },
    {
      "cell_type": "markdown",
      "metadata": {},
      "source": [
        "## Test CART"
      ]
    },
    {
      "cell_type": "code",
      "execution_count": null,
      "metadata": {},
      "outputs": [],
      "source": [
        "# tree = train_CART(dataset_torch, name_xml = \"CART_example.xml\")\n",
        "# acc = test_CART(tree, dataset_torch)"
      ]
    }
  ],
  "metadata": {
    "colab": {
      "provenance": []
    },
    "kernelspec": {
      "display_name": "Python 3 (ipykernel)",
      "language": "python",
      "name": "python3"
    },
    "language_info": {
      "codemirror_mode": {
        "name": "ipython",
        "version": 3
      },
      "file_extension": ".py",
      "mimetype": "text/x-python",
      "name": "python",
      "nbconvert_exporter": "python",
      "pygments_lexer": "ipython3",
      "version": "3.11.2"
    }
  },
  "nbformat": 4,
  "nbformat_minor": 0
}
