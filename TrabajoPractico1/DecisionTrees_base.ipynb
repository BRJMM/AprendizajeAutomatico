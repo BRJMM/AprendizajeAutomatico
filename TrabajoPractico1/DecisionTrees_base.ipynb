{
  "cells": [
    {
      "cell_type": "code",
      "execution_count": 148,
      "metadata": {
        "id": "xqkkxFwaR6uO"
      },
      "outputs": [],
      "source": [
        "import torch\n",
        "import numpy as np"
      ]
    },
    {
      "cell_type": "code",
      "execution_count": 149,
      "metadata": {
        "id": "1YOCBIryR6uR"
      },
      "outputs": [],
      "source": [
        "import pandas\n",
        "#dataset taken from https://www.kaggle.com/yashsawarn/wifi-stretgth-for-rooms\n",
        "\n",
        "USE_GINI = True\n",
        "\n",
        "def read_dataset(csv_name = 'wifi_localization.txt'):\n",
        "    \"\"\"\n",
        "    Reads a csv dataset\n",
        "    returns it as a pytorch tensor\n",
        "    \"\"\"\n",
        "    data_frame = pandas.read_table(csv_name, delim_whitespace=True, names=('A', 'B', 'C', 'D','E', 'F', 'G', 'ROOM'),\n",
        "                       dtype={'A': np.int64, 'B': np.float64, 'C': np.float64, 'D': np.float64,'E': np.float64,'F': np.float64,'G': np.float64,'ROOM': np.float64})\n",
        "\n",
        "    targets_torch = torch.tensor(data_frame['ROOM'].values)\n",
        "    dataset_torch = torch.tensor(data_frame.values)\n",
        "\n",
        "    return dataset_torch"
      ]
    },
    {
      "cell_type": "markdown",
      "metadata": {},
      "source": [
        "# Implementación de la clasificación multi-clase con árboles de decisión"
      ]
    },
    {
      "cell_type": "code",
      "execution_count": 171,
      "metadata": {
        "id": "EZ8GFkT5R6uS"
      },
      "outputs": [],
      "source": [
        "class Node_CART:\n",
        "    def __init__(self, num_classes = 4, ref_CART = None, current_depth = 0):\n",
        "        \"\"\"\n",
        "        Create the node attributes\n",
        "        param num_classes: K number of classes to classify\n",
        "        param ref_cart: reference to the tree containing the node\n",
        "        param current_depth: current depth of the node in the tree\n",
        "        \"\"\"\n",
        "        self.ref_CART = ref_CART\n",
        "        self.threshold_value = 0\n",
        "        self.feature_num = 0\n",
        "        self.node_right = None\n",
        "        self.node_left = None\n",
        "        self.data_torch_partition = None\n",
        "        self.gini = 0\n",
        "        self.dominant_class = None\n",
        "        self.accuracy_dominant_class = None\n",
        "        self.num_classes = num_classes\n",
        "        self.current_depth = current_depth\n",
        "\n",
        "    def to_xml(self, current_str = \"\"):\n",
        "        \"\"\"\n",
        "        Recursive function to write the node content to an xml formatted string\n",
        "        param current_str : the xml content so far in the whole tree\n",
        "        return the string with the node content\n",
        "        \"\"\"\n",
        "        str_node = \"<node><thresh>\" + str(self.threshold_value) + \"</thresh>\" + \"<feature>\" + str(self.feature_num) + \"</feature><depth>\" + str(self.current_depth)+ \"</depth>\"\n",
        "        str_node += \"<gini>\" + str(self.gini) + \"</gini>\"\n",
        "        if(self.node_right != None):\n",
        "            str_left = self.node_right.to_xml(current_str)\n",
        "            str_node += str_left\n",
        "        if(self.node_left != None):\n",
        "            str_right = self.node_left.to_xml(current_str)\n",
        "            str_node += str_right\n",
        "\n",
        "        if(self.is_leaf()):\n",
        "            str_node += \"<dominant_class>\" + str(self.dominant_class) + \"</dominant_class><acc_dominant_class>\"  + str(self.accuracy_dominant_class) + \"</acc_dominant_class>\"\n",
        "        str_node += \"</node>\"\n",
        "        return str_node\n",
        "\n",
        "    def is_leaf(self):\n",
        "        \"\"\"\n",
        "        Checks whether the node is a leaf\n",
        "        \"\"\"\n",
        "        return (self.node_left == None and self.node_right == None)\n",
        "\n",
        "    def create_with_children(self, data_torch, current_depth, list_selected_features = [], min_gini = 0.000001):\n",
        "        \"\"\"\n",
        "        Creates a node by selecting the best feature and threshold, and if needed, creating its children\n",
        "        param data_torch: dataset with the current partition to deal with in the node\n",
        "        param current_depth: depth counter for the node\n",
        "        param list_selected_features: list of selected features so far for the CART building process\n",
        "        param min_gini: hyperparmeter selected by the user defining the minimum tolerated gini coefficient for a  node\n",
        "        return the list of selected features so far\n",
        "        \"\"\"\n",
        "        self.data_torch_partition = data_torch\n",
        "        self.threshold_value, self.feature_num, self.gini = self.select_best_feature_and_thresh(data_torch, list_selected_features)\n",
        "        # if not at max depth\n",
        "        if current_depth < self.ref_CART.max_CART_depth and self.gini >= min_gini:\n",
        "            # if we found an appropiate feature + threshold\n",
        "            if self.feature_num != float('inf') and self.threshold_value != float('inf'):\n",
        "                list_selected_features.append(self.feature_num)\n",
        "                # left\n",
        "                self.node_left = Node_CART(ref_CART=self.ref_CART, current_depth=current_depth+1)\n",
        "                list_selected_features_left = self.node_left.create_with_children(data_torch[data_torch[:,self.feature_num] <= self.threshold_value], (current_depth+1), list_selected_features, min_gini)\n",
        "                # right\n",
        "                self.node_right = Node_CART(ref_CART=self.ref_CART, current_depth=current_depth+1)\n",
        "                list_selected_features_right = self.node_right.create_with_children(data_torch[data_torch[:,self.feature_num] > self.threshold_value], (current_depth+1), list_selected_features, min_gini)\n",
        "                # combinar listas\n",
        "                list_selected_features = list(set(list_selected_features_left + list_selected_features_right))\n",
        "        # dominant class\n",
        "        labels, counts = torch.unique(data_torch[:,-1], return_counts=True)\n",
        "        dominant_index = torch.argmax(counts)\n",
        "        dominant_class = labels[dominant_index].item()\n",
        "        self.dominant_class = dominant_class\n",
        "        return list_selected_features\n",
        "\n",
        "    def calculate_gini(self, data_partition_torch: torch.tensor, num_classes: int = 4):\n",
        "        \"\"\"\n",
        "        Calculates the gini coefficient for a given partition with the given number of classes\n",
        "        param data_partition_torch: current dataset partition as a tensor\n",
        "        param num_classes: K number of classes to discriminate from\n",
        "        returns the calculated gini coefficient\n",
        "        \"\"\"\n",
        "        ROOM_COLUMN_INDEX = 7\n",
        "        class_counts = torch.bincount(data_partition_torch[:, -1], minlength=num_classes + 1)\n",
        "        class_counts = class_counts[1:]\n",
        "        class_probabilities = class_counts.float() / data_partition_torch.shape[0]\n",
        "        gini_coef = 1.0 - torch.sum(class_probabilities ** 2)\n",
        "        return gini_coef\n",
        "\n",
        "    def calculate_entropy(self, data_partition_torch, num_classes = 4):\n",
        "        \"\"\"\n",
        "        Calculates the entropy for a given partition with the given number of classes\n",
        "        param data_partition_torch: current dataset partition as a tensor\n",
        "        param num_classes: K number of classes to discriminate from\n",
        "        returns the calculated entropy\n",
        "        \"\"\"\n",
        "        ROOM_COLUMN_INDEX = 7\n",
        "        class_counts = torch.bincount(data_partition_torch[:, -1], minlength=num_classes + 1)\n",
        "        class_counts = class_counts[1:]\n",
        "        p_k = class_counts.float() / data_partition_torch.shape[0]\n",
        "        p_k[p_k == 0.0] = 1.0 # Remove 0 value, since log2(0) = -inf and log2(1) = 0\n",
        "        return -1*torch.sum(p_k*torch.log2(p_k))\n",
        "\n",
        "    def evaluate_node(self, input_torch):\n",
        "        \"\"\"\n",
        "        Evaluates an input observation within the node.\n",
        "        If is not a leaf node, send it to the corresponding node\n",
        "        return predicted label\n",
        "        \"\"\"\n",
        "        feature_val_input = input_torch[self.feature_num]\n",
        "        if(self.is_leaf()):\n",
        "            return self.dominant_class\n",
        "        else:\n",
        "            if(feature_val_input < self.threshold_value):\n",
        "                return self.node_left.evaluate_node(input_torch)\n",
        "            else:\n",
        "                return self.node_right.evaluate_node(input_torch)\n",
        "\n",
        "    def evaluate_optimal_gini(self, right_data_partition: torch.tensor,\n",
        "                              left_data_partition: torch.tensor,\n",
        "                              n_data_partition: int,\n",
        "                              num_classes: int,\n",
        "                              error_func):\n",
        "        \n",
        "        return (right_data_partition.shape[0]/n_data_partition) * error_func(right_data_partition, num_classes).item() + \\\n",
        "                (left_data_partition.shape[0]/n_data_partition) * error_func(left_data_partition, num_classes).item()\n",
        "\n",
        "    def select_best_feature_and_thresh(self, data_torch, list_features_selected = [], num_classes = 4):\n",
        "        \"\"\"\n",
        "        Selects the best feature and threshold that minimizes the gini coefficient\n",
        "        param data_torch: dataset partition to analyze\n",
        "        param list_features_selected list of features selected so far, thus must be ignored\n",
        "        param num_classes: number of K classes to discriminate from\n",
        "        return min_thresh, min_feature, min_gini found for the dataset partition when\n",
        "        selecting the found feature and threshold\n",
        "        \"\"\"\n",
        "\n",
        "        min_thresh = float('inf')\n",
        "        min_feature = 0\n",
        "        min_gini = float('inf')\n",
        "\n",
        "        total_data_torch = data_torch.shape[1]\n",
        "\n",
        "        # -1 to ignore label\n",
        "        for feature in range(total_data_torch - 1):\n",
        "          if (feature not in list_features_selected):\n",
        "            for threshold in data_torch[:, feature]:\n",
        "                left_data = data_torch[data_torch[:,feature] <= threshold]\n",
        "                right_data = data_torch[data_torch[:,feature] > threshold]\n",
        "                # solution to avoid division by 0 in calculate_gini in case a partition has 0 elements\n",
        "                if (left_data.shape[0] > 0 and right_data.shape[0] > 0):\n",
        "                    if USE_GINI:\n",
        "                        weighted_err = self.evaluate_optimal_gini(right_data, left_data, total_data_torch, num_classes, self.calculate_gini)\n",
        "                    else:\n",
        "                        #weighted_err = self.evaluate_optimal_gini(data_torch[:,feature], num_classes,self.calculate_entropy) # TODO: Is input data correct?\n",
        "                        weighted_err = self.evaluate_optimal_gini(right_data, left_data, total_data_torch, num_classes, self.calculate_entropy)\n",
        "                    if (weighted_err < min_gini):\n",
        "                        min_thresh = threshold\n",
        "                        min_feature = feature\n",
        "                        min_gini = weighted_err\n",
        "        return (min_thresh, min_feature, min_gini)\n",
        "\n",
        "\n",
        "class CART:\n",
        "    def __init__(self, dataset_torch, max_CART_depth, min_observations = 2):\n",
        "        \"\"\"\n",
        "        CART has only one root node\n",
        "        \"\"\"\n",
        "        #min observations per node\n",
        "        self.min_observations = min_observations\n",
        "        self.list_selected_features = []\n",
        "        self.root = Node_CART(num_classes = 4, ref_CART = self, current_depth = 0)\n",
        "        self.max_CART_depth = max_CART_depth\n",
        "        print(self.list_selected_features)\n",
        "        \n",
        "\n",
        "    def get_root(self):\n",
        "        \"\"\"\n",
        "        Gets tree root\n",
        "        \"\"\"\n",
        "        return self.root\n",
        "\n",
        "    def get_min_observations(self):\n",
        "        \"\"\"\n",
        "        return min observations per node\n",
        "        \"\"\"\n",
        "        return self.min_observations\n",
        "\n",
        "    def get_max_depth(self):\n",
        "        \"\"\"\n",
        "        Gets the selected max depth of the tree\n",
        "        \"\"\"\n",
        "        return self.max_CART_depth\n",
        "\n",
        "    def build_CART(self, data_torch):\n",
        "        \"\"\"\n",
        "        Build CART from root\n",
        "        \"\"\"\n",
        "        self.list_selected_features = self.root.create_with_children(data_torch, current_depth = 0, list_selected_features=self.list_selected_features)\n",
        "\n",
        "    def to_xml(self, xml_file_name):\n",
        "        \"\"\"\n",
        "        write Xml file with tree content\n",
        "        \"\"\"\n",
        "        str_nodes = self.root.to_xml()\n",
        "        file = open(xml_file_name,\"w+\")\n",
        "        file.write(str_nodes)\n",
        "        file.close()\n",
        "        return str_nodes\n",
        "\n",
        "    def evaluate_input(self, input_torch):\n",
        "        \"\"\"\n",
        "        Evaluate a specific input in the tree and get the predicted class\n",
        "        \"\"\"\n",
        "        return self.root.evaluate_node(input_torch)\n",
        "\n",
        "def train_CART(dataset_torch, name_xml = \"\", max_CART_depth = 3, min_obs_per_leaf = 2):\n",
        "    \"\"\"\n",
        "    Train CART model\n",
        "    \"\"\"\n",
        "    tree = CART(dataset_torch = dataset_torch, max_CART_depth = max_CART_depth, min_observations =  min_obs_per_leaf)\n",
        "    tree.build_CART(dataset_torch)\n",
        "    if(not name_xml == \"\"):\n",
        "        tree.to_xml(name_xml)\n",
        "    return tree\n",
        "\n",
        "def test_CART(tree, testset_torch):\n",
        "    \"\"\"\n",
        "    Test a previously built CART\n",
        "    \"\"\"\n",
        "    #ROOM_COLUMN_INDEX = 7\n",
        "    ROOM_COLUMN_INDEX = -1\n",
        "    class_columns = testset_torch[:, -1].int()\n",
        "    num_classes = torch.bincount(class_columns)[1:].shape[0]\n",
        "    n = testset_torch.shape[0]\n",
        "    predicted_values = []\n",
        "    c = 0\n",
        "    for current_observation in testset_torch:\n",
        "        real_value = current_observation[ROOM_COLUMN_INDEX].item()\n",
        "        predicted_value = tree.evaluate_input(current_observation)\n",
        "        predicted_values.append(predicted_value)\n",
        "        c = c+1 if predicted_value == real_value else c\n",
        "        #print('predicted_value=[{}], num_classes=[{}], real_value=[{}]'.format(predicted_value, num_classes, real_value))\n",
        "    return c/n, predicted_values"
      ]
    },
    {
      "cell_type": "code",
      "execution_count": 151,
      "metadata": {},
      "outputs": [
        {
          "name": "stdout",
          "output_type": "stream",
          "text": [
            "[]\n",
            "[1, 2]\n",
            "<__main__.Node_CART object at 0x00000110F818C2D0> <__main__.Node_CART object at 0x00000110F6D93090>\n",
            "dominant_class=[2], num_classes=[2], real_value=[1]\n",
            "dominant_class=[2], num_classes=[2], real_value=[1]\n",
            "dominant_class=[2], num_classes=[2], real_value=[1]\n",
            "dominant_class=[2], num_classes=[2], real_value=[1]\n",
            "dominant_class=[2], num_classes=[2], real_value=[2]\n",
            "dominant_class=[2], num_classes=[2], real_value=[2]\n",
            "dominant_class=[2], num_classes=[2], real_value=[2]\n",
            "dominant_class=[2], num_classes=[2], real_value=[2]\n"
          ]
        },
        {
          "data": {
            "text/plain": [
              "0.5"
            ]
          },
          "execution_count": 151,
          "metadata": {},
          "output_type": "execute_result"
        }
      ],
      "source": [
        "# PRUEBA DE JOSEF. TODO: BORRAR\n",
        "data = torch.tensor([\n",
        "    [1, 0, 1, 1],\n",
        "    [1, 0, 1, 1],\n",
        "    [1, 1, 0, 1],\n",
        "    [1, 1, 0, 1],\n",
        "    [1, 1, 0, 2],\n",
        "    [1, 1, 0, 2],\n",
        "    [1, 1, 1, 2],\n",
        "    [1, 1, 1, 2]\n",
        "])\n",
        "cart = CART(data, 4)\n",
        "cart.build_CART(data)\n",
        "print(cart.list_selected_features)\n",
        "print(cart.root.node_left, cart.root.node_right)\n",
        "cart.to_xml('prueba_josef.xml')\n",
        "\n",
        "test_CART(cart, data)"
      ]
    },
    {
      "cell_type": "markdown",
      "metadata": {
        "id": "9ZDmgW8mR6uT"
      },
      "source": [
        "## Gini Unit Test"
      ]
    },
    {
      "cell_type": "code",
      "execution_count": 152,
      "metadata": {
        "colab": {
          "base_uri": "https://localhost:8080/"
        },
        "id": "qQfzXD_TR6uU",
        "outputId": "efbda156-9342-42f6-d936-48dfcf733949"
      },
      "outputs": [],
      "source": [
        "import unittest\n",
        "\n",
        "class GiniUnitTest(unittest.TestCase):\n",
        "\n",
        "    def test_singleClassOneData(self):\n",
        "      data = torch.tensor([[-64, -56,\t-61,\t-66,\t-71,\t-82,\t-81,\t1]])\n",
        "      node = Node_CART()\n",
        "      gini_result = node.calculate_gini(data, num_classes=1)\n",
        "      self.assertTrue(torch.equal(gini_result, torch.tensor(0.0)))\n",
        "\n",
        "    def test_twoClassesOneDataPerClass(self):\n",
        "      data = torch.tensor([[-64, -56,\t-61,\t-66,\t-71,\t-82,\t-81,\t1], [-64, -56,\t-61,\t-66,\t-71,\t-82,\t-81,\t2]])\n",
        "      node = Node_CART()\n",
        "      gini_result = node.calculate_gini(data, num_classes=2)\n",
        "      self.assertTrue(torch.equal(gini_result, torch.tensor(0.5)))\n",
        "\n",
        "    def test_twoClassesOnlyOneClassWithData(self):\n",
        "      data = torch.tensor([[-64, -56,\t-61,\t-66,\t-71,\t-82,\t-81,\t1], [-64, -56,\t-61,\t-66,\t-71,\t-82,\t-81,\t1]])\n",
        "      node = Node_CART()\n",
        "      gini_result = node.calculate_gini(data, num_classes=2)\n",
        "      self.assertTrue(torch.equal(gini_result, torch.tensor(0.0)))\n",
        "\n",
        "    def test_fourClassesOneDataPerClass(self):\n",
        "      data = torch.tensor([[-64, -56,\t-61,\t-66,\t-71,\t-82,\t-81,\t1], [-64, -56,\t-61,\t-66,\t-71,\t-82,\t-81,\t2], [-64, -56,\t-61,\t-66,\t-71,\t-82,\t-81,\t3], [-64, -56,\t-61,\t-66,\t-71,\t-82,\t-81,\t4]])\n",
        "      node = Node_CART()\n",
        "      gini_result = node.calculate_gini(data, num_classes=4)\n",
        "      self.assertTrue(torch.equal(gini_result, torch.tensor(0.75)))\n",
        "\n",
        "    def test_fourClassesOnlyTwoClassesWithData(self):\n",
        "      data = torch.tensor([[-64, -56,\t-61,\t-66,\t-71,\t-82,\t-81,\t1], [-64, -56,\t-61,\t-66,\t-71,\t-82,\t-81,\t1], [-64, -56,\t-61,\t-66,\t-71,\t-82,\t-81,\t4], [-64, -56,\t-61,\t-66,\t-71,\t-82,\t-81,\t4]])\n",
        "      node = Node_CART()\n",
        "      gini_result = node.calculate_gini(data, num_classes=4)\n",
        "      self.assertTrue(torch.equal(gini_result, torch.tensor(0.5)))\n",
        "\n",
        "    def test_fourClassesOnlyThreeClassesWithData(self):\n",
        "      data = torch.tensor([[-64, -56,\t-61,\t-66,\t-71,\t-82,\t-81,\t1], [-64, -56,\t-61,\t-66,\t-71,\t-82,\t-81,\t1], [-64, -56,\t-61,\t-66,\t-71,\t-82,\t-81,\t3], [-64, -56,\t-61,\t-66,\t-71,\t-82,\t-81,\t4]])\n",
        "      node = Node_CART()\n",
        "      gini_result = node.calculate_gini(data, num_classes=4)\n",
        "      self.assertTrue(torch.equal(gini_result, torch.tensor(0.625)))"
      ]
    },
    {
      "cell_type": "markdown",
      "metadata": {
        "id": "e49nDiY_VPKs"
      },
      "source": [
        "## Entropy Unit Test"
      ]
    },
    {
      "cell_type": "code",
      "execution_count": 153,
      "metadata": {
        "colab": {
          "base_uri": "https://localhost:8080/"
        },
        "id": "-o61zW_bVOCh",
        "outputId": "b0036ddc-9346-4517-c139-4a655e25f157"
      },
      "outputs": [],
      "source": [
        "class EntropyUnitTest(unittest.TestCase):\n",
        "    def test_twoClasses5and9(self):\n",
        "      data = torch.tensor([\n",
        "        [-64, -56,\t-61,\t-66,\t-71,\t-82,\t-81,\t1],\n",
        "        [-64, -56,\t-61,\t-66,\t-71,\t-82,\t-81,\t1],\n",
        "        [-64, -56,\t-61,\t-66,\t-71,\t-82,\t-81,\t1],\n",
        "        [-64, -56,\t-61,\t-66,\t-71,\t-82,\t-81,\t1],\n",
        "        [-64, -56,\t-61,\t-66,\t-71,\t-82,\t-81,\t1],\n",
        "        [-64, -56,\t-61,\t-66,\t-71,\t-82,\t-81,\t2],\n",
        "        [-64, -56,\t-61,\t-66,\t-71,\t-82,\t-81,\t2],\n",
        "        [-64, -56,\t-61,\t-66,\t-71,\t-82,\t-81,\t2],\n",
        "        [-64, -56,\t-61,\t-66,\t-71,\t-82,\t-81,\t2],\n",
        "        [-64, -56,\t-61,\t-66,\t-71,\t-82,\t-81,\t2],\n",
        "        [-64, -56,\t-61,\t-66,\t-71,\t-82,\t-81,\t2],\n",
        "        [-64, -56,\t-61,\t-66,\t-71,\t-82,\t-81,\t2],\n",
        "        [-64, -56,\t-61,\t-66,\t-71,\t-82,\t-81,\t2],\n",
        "        [-64, -56,\t-61,\t-66,\t-71,\t-82,\t-81,\t2]\n",
        "      ])\n",
        "      node = Node_CART()\n",
        "      entropy_result = node.calculate_entropy(data, num_classes=2)\n",
        "      self.assertAlmostEqual(entropy_result.item(), 0.94, delta=0.01)\n",
        "\n",
        "    def test_twoClassesEqualItems(self):\n",
        "      data = torch.tensor([\n",
        "        [-64, -56,\t-61,\t-66,\t-71,\t-82,\t-81,\t1],\n",
        "        [-64, -56,\t-61,\t-66,\t-71,\t-82,\t-81,\t1],\n",
        "        [-64, -56,\t-61,\t-66,\t-71,\t-82,\t-81,\t2],\n",
        "        [-64, -56,\t-61,\t-66,\t-71,\t-82,\t-81,\t2]\n",
        "      ])\n",
        "      node = Node_CART()\n",
        "      entropy_result = node.calculate_entropy(data, num_classes=2)\n",
        "      self.assertAlmostEqual(entropy_result.item(), 1.0, delta=0.01)\n",
        "\n",
        "    def test_twoClassesAllItemsOneClass(self):\n",
        "      data = torch.tensor([\n",
        "        [-64, -56,\t-61,\t-66,\t-71,\t-82,\t-81,\t1],\n",
        "        [-64, -56,\t-61,\t-66,\t-71,\t-82,\t-81,\t1],\n",
        "        [-64, -56,\t-61,\t-66,\t-71,\t-82,\t-81,\t1],\n",
        "        [-64, -56,\t-61,\t-66,\t-71,\t-82,\t-81,\t1]\n",
        "      ])\n",
        "      node = Node_CART()\n",
        "      entropy_result = node.calculate_entropy(data, num_classes=2)\n",
        "      self.assertAlmostEqual(entropy_result.item(), 0.0, delta=0.01)"
      ]
    },
    {
      "cell_type": "markdown",
      "metadata": {
        "id": "pRWjEzAGOQUn"
      },
      "source": [
        "## Feat and Thresh Selection Unit test"
      ]
    },
    {
      "cell_type": "code",
      "execution_count": 154,
      "metadata": {
        "colab": {
          "base_uri": "https://localhost:8080/"
        },
        "id": "g76Z6KvONS8A",
        "outputId": "b44cb6c4-83d8-43a4-9fa5-6d5b38248c55"
      },
      "outputs": [],
      "source": [
        "class BestFeatAndThreshUnitTest(unittest.TestCase):\n",
        "\n",
        "    def test_optimal_gini(self):\n",
        "      right_data = torch.tensor([[-64, -56,\t-61,\t-66,\t-71,\t-82,\t-81,\t1], [-64, -56,\t-61,\t-66,\t-71,\t-82,\t-81,\t2], [-64, -56,\t-61,\t-66,\t-71,\t-82,\t-81,\t3], [-64, -56,\t-61,\t-66,\t-71,\t-82,\t-81,\t4]])\n",
        "      left_data = torch.tensor([[-64, -56,\t-61,\t-66,\t-71,\t-82,\t-81,\t1], [-64, -56,\t-61,\t-66,\t-71,\t-82,\t-81,\t1], [-64, -56,\t-61,\t-66,\t-71,\t-82,\t-81,\t3], [-64, -56,\t-61,\t-66,\t-71,\t-82,\t-81,\t4]])\n",
        "      node = Node_CART()\n",
        "      result = node.evaluate_optimal_gini(right_data, left_data, n_data_partition=8, num_classes=4)\n",
        "      self.assertEqual(result, 0.6875)\n",
        "\n",
        "    def test_twoClassesOneDataPerClass(self):\n",
        "      USE_GINI = True\n",
        "      data = torch.tensor([ [-64, -56,\t-61,\t-66,\t-71,\t-82,\t-81,  1],\n",
        "                            [-50, -14,\t-1,\t-90,\t-100,\t-80,\t-84,\t2],\n",
        "                            [-25, -50,\t-100,\t-9,\t-10,\t-85,\t-70,\t2],\n",
        "                            [-64, -56,\t-61,\t-66,\t-71,\t-82,\t-81,  1]])\n",
        "      node = Node_CART()\n",
        "      ((min_thresh, min_feature, min_gini)) = node.select_best_feature_and_thresh(data, num_classes=2)\n",
        "      self.assertEqual(min_thresh, torch.tensor(-64))\n",
        "      self.assertEqual(min_feature, torch.tensor(0.0))\n",
        "      self.assertEqual(min_gini, torch.tensor(0.0))"
      ]
    },
    {
      "cell_type": "markdown",
      "metadata": {},
      "source": [
        "## Create with Children Unit test"
      ]
    },
    {
      "cell_type": "code",
      "execution_count": 155,
      "metadata": {},
      "outputs": [
        {
          "name": "stderr",
          "output_type": "stream",
          "text": [
            "test_optimal_gini (__main__.BestFeatAndThreshUnitTest.test_optimal_gini) ... ok\n",
            "test_twoClassesOneDataPerClass (__main__.BestFeatAndThreshUnitTest.test_twoClassesOneDataPerClass) ... ok\n",
            "test_twoClassesTwoDataPerClass (__main__.CreateWithChildrenUnitTest.test_twoClassesTwoDataPerClass) ... ok\n",
            "test_twoClassesTwoDataPerClass_depth (__main__.CreateWithChildrenUnitTest.test_twoClassesTwoDataPerClass_depth) ... ok\n",
            "test_twoClasses5and9 (__main__.EntropyUnitTest.test_twoClasses5and9) ... ok\n",
            "test_twoClassesAllItemsOneClass (__main__.EntropyUnitTest.test_twoClassesAllItemsOneClass) ... ok\n",
            "test_twoClassesEqualItems (__main__.EntropyUnitTest.test_twoClassesEqualItems) ... ok\n",
            "test_fourClassesOneDataPerClass (__main__.GiniUnitTest.test_fourClassesOneDataPerClass) ... "
          ]
        },
        {
          "name": "stdout",
          "output_type": "stream",
          "text": [
            "[]\n",
            "[]\n"
          ]
        },
        {
          "name": "stderr",
          "output_type": "stream",
          "text": [
            "ok\n",
            "test_fourClassesOnlyThreeClassesWithData (__main__.GiniUnitTest.test_fourClassesOnlyThreeClassesWithData) ... ok\n",
            "test_fourClassesOnlyTwoClassesWithData (__main__.GiniUnitTest.test_fourClassesOnlyTwoClassesWithData) ... ok\n",
            "test_singleClassOneData (__main__.GiniUnitTest.test_singleClassOneData) ... ok\n",
            "test_twoClassesOneDataPerClass (__main__.GiniUnitTest.test_twoClassesOneDataPerClass) ... ok\n",
            "test_twoClassesOnlyOneClassWithData (__main__.GiniUnitTest.test_twoClassesOnlyOneClassWithData) ... ok\n",
            "\n",
            "----------------------------------------------------------------------\n",
            "Ran 13 tests in 0.291s\n",
            "\n",
            "OK\n"
          ]
        },
        {
          "data": {
            "text/plain": [
              "<unittest.main.TestProgram at 0x110f6cd3e10>"
            ]
          },
          "execution_count": 155,
          "metadata": {},
          "output_type": "execute_result"
        }
      ],
      "source": [
        "class CreateWithChildrenUnitTest(unittest.TestCase):\n",
        "    def test_twoClassesTwoDataPerClass(self):\n",
        "      data = torch.tensor([ [-64, -56,\t-61,\t-90,\t-71,\t-82,\t-81,  1],\n",
        "                            [-64, -14,\t-61,\t-90,\t-71,\t-82,\t-81,  2],\n",
        "                            [-64, -56,\t-61,\t-90,\t-71,\t-82,\t-81,  2],\n",
        "                            [-64, -56,\t-60,\t-90,\t-71,\t-82,\t-81,  1]])\n",
        "      cart = CART(data, 2)\n",
        "      cart.build_CART(data)\n",
        "      self.assertEqual(cart.list_selected_features, [1, 2])\n",
        "\n",
        "    def test_twoClassesTwoDataPerClass_depth(self):\n",
        "      data = torch.tensor([ [-64, -56,\t-61,\t-90,\t-71,\t-82,\t-81,  1],\n",
        "                            [-64, -14,\t-61,\t-90,\t-71,\t-82,\t-81,  2],\n",
        "                            [-64, -56,\t-61,\t-90,\t-71,\t-82,\t-81,  2],\n",
        "                            [-64, -56,\t-60,\t-90,\t-71,\t-82,\t-81,  1]])\n",
        "      cart = CART(data, 1)\n",
        "      cart.build_CART(data)\n",
        "      self.assertEqual(cart.list_selected_features, [1])\n",
        "\n",
        "\n",
        "unittest.main(argv=[''], verbosity=2, exit=False)"
      ]
    },
    {
      "cell_type": "markdown",
      "metadata": {},
      "source": [
        "## test_CART Unit Test"
      ]
    },
    {
      "cell_type": "code",
      "execution_count": 156,
      "metadata": {},
      "outputs": [],
      "source": [
        "class TestCARTUnitTest(unittest.TestCase):\n",
        "\n",
        "    def test_dummyTestCART(self):\n",
        "      self.assertTrue(True)"
      ]
    },
    {
      "cell_type": "markdown",
      "metadata": {},
      "source": [
        "## Ejecución Unit Tests"
      ]
    },
    {
      "cell_type": "code",
      "execution_count": 157,
      "metadata": {},
      "outputs": [
        {
          "name": "stderr",
          "output_type": "stream",
          "text": [
            "test_optimal_gini (__main__.BestFeatAndThreshUnitTest.test_optimal_gini) ... ok\n",
            "test_twoClassesOneDataPerClass (__main__.BestFeatAndThreshUnitTest.test_twoClassesOneDataPerClass) ... ok\n",
            "test_twoClassesTwoDataPerClass (__main__.CreateWithChildrenUnitTest.test_twoClassesTwoDataPerClass) ... ok\n",
            "test_twoClassesTwoDataPerClass_depth (__main__.CreateWithChildrenUnitTest.test_twoClassesTwoDataPerClass_depth) ... ok\n",
            "test_twoClasses5and9 (__main__.EntropyUnitTest.test_twoClasses5and9) ... ok\n",
            "test_twoClassesAllItemsOneClass (__main__.EntropyUnitTest.test_twoClassesAllItemsOneClass) ... ok\n",
            "test_twoClassesEqualItems (__main__.EntropyUnitTest.test_twoClassesEqualItems) ... ok\n",
            "test_fourClassesOneDataPerClass (__main__.GiniUnitTest.test_fourClassesOneDataPerClass) ... ok\n",
            "test_fourClassesOnlyThreeClassesWithData (__main__.GiniUnitTest.test_fourClassesOnlyThreeClassesWithData) ... ok\n",
            "test_fourClassesOnlyTwoClassesWithData (__main__.GiniUnitTest.test_fourClassesOnlyTwoClassesWithData) ... ok\n",
            "test_singleClassOneData (__main__.GiniUnitTest.test_singleClassOneData) ... ok\n",
            "test_twoClassesOneDataPerClass (__main__.GiniUnitTest.test_twoClassesOneDataPerClass) ... ok\n",
            "test_twoClassesOnlyOneClassWithData (__main__.GiniUnitTest.test_twoClassesOnlyOneClassWithData) ... "
          ]
        },
        {
          "name": "stderr",
          "output_type": "stream",
          "text": [
            "ok\n",
            "test_dummyTestCART (__main__.TestCARTUnitTest.test_dummyTestCART) ... ok\n",
            "\n",
            "----------------------------------------------------------------------\n",
            "Ran 14 tests in 0.075s\n",
            "\n",
            "OK\n"
          ]
        },
        {
          "name": "stdout",
          "output_type": "stream",
          "text": [
            "[]\n",
            "[]\n"
          ]
        },
        {
          "data": {
            "text/plain": [
              "<unittest.main.TestProgram at 0x110f624e4d0>"
            ]
          },
          "execution_count": 157,
          "metadata": {},
          "output_type": "execute_result"
        }
      ],
      "source": [
        "unittest.main(argv=[''], verbosity=2, exit=False)"
      ]
    },
    {
      "cell_type": "markdown",
      "metadata": {},
      "source": [
        "# Evaluación del CART"
      ]
    },
    {
      "cell_type": "markdown",
      "metadata": {},
      "source": [
        "## 1-"
      ]
    },
    {
      "cell_type": "code",
      "execution_count": 172,
      "metadata": {},
      "outputs": [
        {
          "name": "stdout",
          "output_type": "stream",
          "text": [
            "dataset_torch = [\n",
            "tensor([[-64, -56, -61,  ..., -82, -81,   1],\n",
            "        [-68, -57, -61,  ..., -85, -85,   1],\n",
            "        [-63, -60, -60,  ..., -85, -84,   1],\n",
            "        ...,\n",
            "        [-62, -59, -46,  ..., -87, -88,   4],\n",
            "        [-62, -58, -52,  ..., -90, -85,   4],\n",
            "        [-59, -50, -45,  ..., -88, -87,   4]], dtype=torch.int32)\n",
            "]\n",
            "[GINI] - Test CART with max_CART_depth=[3] and min_obs_per_leaf=[2]\n",
            "[]\n",
            "[GINI] - Accuracy rate=[0.9155], f1_score=[0.9164107351015577]\n",
            "[GINI] - Test CART with max_CART_depth=[4] and min_obs_per_leaf=[2]\n",
            "[]\n"
          ]
        },
        {
          "ename": "KeyboardInterrupt",
          "evalue": "",
          "output_type": "error",
          "traceback": [
            "\u001b[1;31m---------------------------------------------------------------------------\u001b[0m",
            "\u001b[1;31mKeyboardInterrupt\u001b[0m                         Traceback (most recent call last)",
            "Cell \u001b[1;32mIn[172], line 18\u001b[0m\n\u001b[0;32m     15\u001b[0m \u001b[38;5;66;03m#########\u001b[39;00m\n\u001b[0;32m     17\u001b[0m \u001b[38;5;28mprint\u001b[39m(\u001b[38;5;124m'\u001b[39m\u001b[38;5;124m[GINI] - Test CART with max_CART_depth=[4] and min_obs_per_leaf=[2]\u001b[39m\u001b[38;5;124m'\u001b[39m)\n\u001b[1;32m---> 18\u001b[0m tree_4 \u001b[38;5;241m=\u001b[39m \u001b[43mtrain_CART\u001b[49m\u001b[43m(\u001b[49m\u001b[43mdataset_torch\u001b[49m\u001b[43m,\u001b[49m\u001b[43m \u001b[49m\u001b[43mname_xml\u001b[49m\u001b[43m \u001b[49m\u001b[38;5;241;43m=\u001b[39;49m\u001b[43m \u001b[49m\u001b[38;5;124;43m\"\u001b[39;49m\u001b[38;5;124;43mCART_example.xml\u001b[39;49m\u001b[38;5;124;43m\"\u001b[39;49m\u001b[43m,\u001b[49m\u001b[43m \u001b[49m\u001b[43mmax_CART_depth\u001b[49m\u001b[38;5;241;43m=\u001b[39;49m\u001b[38;5;241;43m4\u001b[39;49m\u001b[43m,\u001b[49m\u001b[43m \u001b[49m\u001b[43mmin_obs_per_leaf\u001b[49m\u001b[38;5;241;43m=\u001b[39;49m\u001b[38;5;241;43m2\u001b[39;49m\u001b[43m)\u001b[49m\n\u001b[0;32m     19\u001b[0m acc, predicted_values \u001b[38;5;241m=\u001b[39m test_CART(tree_4, dataset_torch)\n\u001b[0;32m     20\u001b[0m f1 \u001b[38;5;241m=\u001b[39m f1_score(dataset_torch[:,\u001b[38;5;241m-\u001b[39m\u001b[38;5;241m1\u001b[39m], predicted_values, average\u001b[38;5;241m=\u001b[39m\u001b[38;5;124m'\u001b[39m\u001b[38;5;124mweighted\u001b[39m\u001b[38;5;124m'\u001b[39m) \n",
            "Cell \u001b[1;32mIn[171], line 224\u001b[0m, in \u001b[0;36mtrain_CART\u001b[1;34m(dataset_torch, name_xml, max_CART_depth, min_obs_per_leaf)\u001b[0m\n\u001b[0;32m    220\u001b[0m \u001b[38;5;250m\u001b[39m\u001b[38;5;124;03m\"\"\"\u001b[39;00m\n\u001b[0;32m    221\u001b[0m \u001b[38;5;124;03mTrain CART model\u001b[39;00m\n\u001b[0;32m    222\u001b[0m \u001b[38;5;124;03m\"\"\"\u001b[39;00m\n\u001b[0;32m    223\u001b[0m tree \u001b[38;5;241m=\u001b[39m CART(dataset_torch \u001b[38;5;241m=\u001b[39m dataset_torch, max_CART_depth \u001b[38;5;241m=\u001b[39m max_CART_depth, min_observations \u001b[38;5;241m=\u001b[39m  min_obs_per_leaf)\n\u001b[1;32m--> 224\u001b[0m \u001b[43mtree\u001b[49m\u001b[38;5;241;43m.\u001b[39;49m\u001b[43mbuild_CART\u001b[49m\u001b[43m(\u001b[49m\u001b[43mdataset_torch\u001b[49m\u001b[43m)\u001b[49m\n\u001b[0;32m    225\u001b[0m \u001b[38;5;28;01mif\u001b[39;00m(\u001b[38;5;129;01mnot\u001b[39;00m name_xml \u001b[38;5;241m==\u001b[39m \u001b[38;5;124m\"\u001b[39m\u001b[38;5;124m\"\u001b[39m):\n\u001b[0;32m    226\u001b[0m     tree\u001b[38;5;241m.\u001b[39mto_xml(name_xml)\n",
            "Cell \u001b[1;32mIn[171], line 201\u001b[0m, in \u001b[0;36mCART.build_CART\u001b[1;34m(self, data_torch)\u001b[0m\n\u001b[0;32m    197\u001b[0m \u001b[38;5;28;01mdef\u001b[39;00m \u001b[38;5;21mbuild_CART\u001b[39m(\u001b[38;5;28mself\u001b[39m, data_torch):\n\u001b[0;32m    198\u001b[0m \u001b[38;5;250m    \u001b[39m\u001b[38;5;124;03m\"\"\"\u001b[39;00m\n\u001b[0;32m    199\u001b[0m \u001b[38;5;124;03m    Build CART from root\u001b[39;00m\n\u001b[0;32m    200\u001b[0m \u001b[38;5;124;03m    \"\"\"\u001b[39;00m\n\u001b[1;32m--> 201\u001b[0m     \u001b[38;5;28mself\u001b[39m\u001b[38;5;241m.\u001b[39mlist_selected_features \u001b[38;5;241m=\u001b[39m \u001b[38;5;28;43mself\u001b[39;49m\u001b[38;5;241;43m.\u001b[39;49m\u001b[43mroot\u001b[49m\u001b[38;5;241;43m.\u001b[39;49m\u001b[43mcreate_with_children\u001b[49m\u001b[43m(\u001b[49m\u001b[43mdata_torch\u001b[49m\u001b[43m,\u001b[49m\u001b[43m \u001b[49m\u001b[43mcurrent_depth\u001b[49m\u001b[43m \u001b[49m\u001b[38;5;241;43m=\u001b[39;49m\u001b[43m \u001b[49m\u001b[38;5;241;43m0\u001b[39;49m\u001b[43m,\u001b[49m\u001b[43m \u001b[49m\u001b[43mlist_selected_features\u001b[49m\u001b[38;5;241;43m=\u001b[39;49m\u001b[38;5;28;43mself\u001b[39;49m\u001b[38;5;241;43m.\u001b[39;49m\u001b[43mlist_selected_features\u001b[49m\u001b[43m)\u001b[49m\n",
            "Cell \u001b[1;32mIn[171], line 57\u001b[0m, in \u001b[0;36mNode_CART.create_with_children\u001b[1;34m(self, data_torch, current_depth, list_selected_features, min_gini)\u001b[0m\n\u001b[0;32m     48\u001b[0m \u001b[38;5;250m\u001b[39m\u001b[38;5;124;03m\"\"\"\u001b[39;00m\n\u001b[0;32m     49\u001b[0m \u001b[38;5;124;03mCreates a node by selecting the best feature and threshold, and if needed, creating its children\u001b[39;00m\n\u001b[0;32m     50\u001b[0m \u001b[38;5;124;03mparam data_torch: dataset with the current partition to deal with in the node\u001b[39;00m\n\u001b[1;32m   (...)\u001b[0m\n\u001b[0;32m     54\u001b[0m \u001b[38;5;124;03mreturn the list of selected features so far\u001b[39;00m\n\u001b[0;32m     55\u001b[0m \u001b[38;5;124;03m\"\"\"\u001b[39;00m\n\u001b[0;32m     56\u001b[0m \u001b[38;5;28mself\u001b[39m\u001b[38;5;241m.\u001b[39mdata_torch_partition \u001b[38;5;241m=\u001b[39m data_torch\n\u001b[1;32m---> 57\u001b[0m \u001b[38;5;28mself\u001b[39m\u001b[38;5;241m.\u001b[39mthreshold_value, \u001b[38;5;28mself\u001b[39m\u001b[38;5;241m.\u001b[39mfeature_num, \u001b[38;5;28mself\u001b[39m\u001b[38;5;241m.\u001b[39mgini \u001b[38;5;241m=\u001b[39m \u001b[38;5;28;43mself\u001b[39;49m\u001b[38;5;241;43m.\u001b[39;49m\u001b[43mselect_best_feature_and_thresh\u001b[49m\u001b[43m(\u001b[49m\u001b[43mdata_torch\u001b[49m\u001b[43m,\u001b[49m\u001b[43m \u001b[49m\u001b[43mlist_selected_features\u001b[49m\u001b[43m)\u001b[49m\n\u001b[0;32m     58\u001b[0m \u001b[38;5;66;03m# if not at max depth\u001b[39;00m\n\u001b[0;32m     59\u001b[0m \u001b[38;5;28;01mif\u001b[39;00m current_depth \u001b[38;5;241m<\u001b[39m \u001b[38;5;28mself\u001b[39m\u001b[38;5;241m.\u001b[39mref_CART\u001b[38;5;241m.\u001b[39mmax_CART_depth \u001b[38;5;129;01mand\u001b[39;00m \u001b[38;5;28mself\u001b[39m\u001b[38;5;241m.\u001b[39mgini \u001b[38;5;241m>\u001b[39m\u001b[38;5;241m=\u001b[39m min_gini:\n\u001b[0;32m     60\u001b[0m     \u001b[38;5;66;03m# if we found an appropiate feature + threshold\u001b[39;00m\n",
            "Cell \u001b[1;32mIn[171], line 155\u001b[0m, in \u001b[0;36mNode_CART.select_best_feature_and_thresh\u001b[1;34m(self, data_torch, list_features_selected, num_classes)\u001b[0m\n\u001b[0;32m    153\u001b[0m \u001b[38;5;28;01mif\u001b[39;00m (left_data\u001b[38;5;241m.\u001b[39mshape[\u001b[38;5;241m0\u001b[39m] \u001b[38;5;241m>\u001b[39m \u001b[38;5;241m0\u001b[39m \u001b[38;5;129;01mand\u001b[39;00m right_data\u001b[38;5;241m.\u001b[39mshape[\u001b[38;5;241m0\u001b[39m] \u001b[38;5;241m>\u001b[39m \u001b[38;5;241m0\u001b[39m):\n\u001b[0;32m    154\u001b[0m     \u001b[38;5;28;01mif\u001b[39;00m USE_GINI:\n\u001b[1;32m--> 155\u001b[0m         weighted_err \u001b[38;5;241m=\u001b[39m \u001b[38;5;28;43mself\u001b[39;49m\u001b[38;5;241;43m.\u001b[39;49m\u001b[43mevaluate_optimal_gini\u001b[49m\u001b[43m(\u001b[49m\u001b[43mright_data\u001b[49m\u001b[43m,\u001b[49m\u001b[43m \u001b[49m\u001b[43mleft_data\u001b[49m\u001b[43m,\u001b[49m\u001b[43m \u001b[49m\u001b[43mtotal_data_torch\u001b[49m\u001b[43m,\u001b[49m\u001b[43m \u001b[49m\u001b[43mnum_classes\u001b[49m\u001b[43m,\u001b[49m\u001b[43m \u001b[49m\u001b[38;5;28;43mself\u001b[39;49m\u001b[38;5;241;43m.\u001b[39;49m\u001b[43mcalculate_gini\u001b[49m\u001b[43m)\u001b[49m\n\u001b[0;32m    156\u001b[0m     \u001b[38;5;28;01melse\u001b[39;00m:\n\u001b[0;32m    157\u001b[0m         \u001b[38;5;66;03m#weighted_err = self.evaluate_optimal_gini(data_torch[:,feature], num_classes,self.calculate_entropy) # TODO: Is input data correct?\u001b[39;00m\n\u001b[0;32m    158\u001b[0m         weighted_err \u001b[38;5;241m=\u001b[39m \u001b[38;5;28mself\u001b[39m\u001b[38;5;241m.\u001b[39mevaluate_optimal_gini(right_data, left_data, total_data_torch, num_classes, \u001b[38;5;28mself\u001b[39m\u001b[38;5;241m.\u001b[39mcalculate_entropy)\n",
            "Cell \u001b[1;32mIn[171], line 128\u001b[0m, in \u001b[0;36mNode_CART.evaluate_optimal_gini\u001b[1;34m(self, right_data_partition, left_data_partition, n_data_partition, num_classes, error_func)\u001b[0m\n\u001b[0;32m    121\u001b[0m \u001b[38;5;28;01mdef\u001b[39;00m \u001b[38;5;21mevaluate_optimal_gini\u001b[39m(\u001b[38;5;28mself\u001b[39m, right_data_partition: torch\u001b[38;5;241m.\u001b[39mtensor,\n\u001b[0;32m    122\u001b[0m                           left_data_partition: torch\u001b[38;5;241m.\u001b[39mtensor,\n\u001b[0;32m    123\u001b[0m                           n_data_partition: \u001b[38;5;28mint\u001b[39m,\n\u001b[0;32m    124\u001b[0m                           num_classes: \u001b[38;5;28mint\u001b[39m,\n\u001b[0;32m    125\u001b[0m                           error_func):\n\u001b[0;32m    127\u001b[0m     \u001b[38;5;28;01mreturn\u001b[39;00m (right_data_partition\u001b[38;5;241m.\u001b[39mshape[\u001b[38;5;241m0\u001b[39m]\u001b[38;5;241m/\u001b[39mn_data_partition) \u001b[38;5;241m*\u001b[39m error_func(right_data_partition, num_classes)\u001b[38;5;241m.\u001b[39mitem() \u001b[38;5;241m+\u001b[39m \\\n\u001b[1;32m--> 128\u001b[0m             (left_data_partition\u001b[38;5;241m.\u001b[39mshape[\u001b[38;5;241m0\u001b[39m]\u001b[38;5;241m/\u001b[39mn_data_partition) \u001b[38;5;241m*\u001b[39m \u001b[43merror_func\u001b[49m\u001b[43m(\u001b[49m\u001b[43mleft_data_partition\u001b[49m\u001b[43m,\u001b[49m\u001b[43m \u001b[49m\u001b[43mnum_classes\u001b[49m\u001b[43m)\u001b[49m\u001b[38;5;241m.\u001b[39mitem()\n",
            "Cell \u001b[1;32mIn[171], line 89\u001b[0m, in \u001b[0;36mNode_CART.calculate_gini\u001b[1;34m(self, data_partition_torch, num_classes)\u001b[0m\n\u001b[0;32m     87\u001b[0m class_counts \u001b[38;5;241m=\u001b[39m class_counts[\u001b[38;5;241m1\u001b[39m:]\n\u001b[0;32m     88\u001b[0m class_probabilities \u001b[38;5;241m=\u001b[39m class_counts\u001b[38;5;241m.\u001b[39mfloat() \u001b[38;5;241m/\u001b[39m data_partition_torch\u001b[38;5;241m.\u001b[39mshape[\u001b[38;5;241m0\u001b[39m]\n\u001b[1;32m---> 89\u001b[0m gini_coef \u001b[38;5;241m=\u001b[39m \u001b[38;5;241;43m1.0\u001b[39;49m\u001b[43m \u001b[49m\u001b[38;5;241;43m-\u001b[39;49m\u001b[43m \u001b[49m\u001b[43mtorch\u001b[49m\u001b[38;5;241;43m.\u001b[39;49m\u001b[43msum\u001b[49m\u001b[43m(\u001b[49m\u001b[43mclass_probabilities\u001b[49m\u001b[43m \u001b[49m\u001b[38;5;241;43m*\u001b[39;49m\u001b[38;5;241;43m*\u001b[39;49m\u001b[43m \u001b[49m\u001b[38;5;241;43m2\u001b[39;49m\u001b[43m)\u001b[49m\n\u001b[0;32m     90\u001b[0m \u001b[38;5;28;01mreturn\u001b[39;00m gini_coef\n",
            "File \u001b[1;32m~\\AppData\\Local\\Packages\\PythonSoftwareFoundation.Python.3.11_qbz5n2kfra8p0\\LocalCache\\local-packages\\Python311\\site-packages\\torch\\_tensor.py:40\u001b[0m, in \u001b[0;36m_handle_torch_function_and_wrap_type_error_to_not_implemented.<locals>.wrapped\u001b[1;34m(*args, **kwargs)\u001b[0m\n\u001b[0;32m     38\u001b[0m     \u001b[38;5;28;01mif\u001b[39;00m has_torch_function(args):\n\u001b[0;32m     39\u001b[0m         \u001b[38;5;28;01mreturn\u001b[39;00m handle_torch_function(wrapped, args, \u001b[38;5;241m*\u001b[39margs, \u001b[38;5;241m*\u001b[39m\u001b[38;5;241m*\u001b[39mkwargs)\n\u001b[1;32m---> 40\u001b[0m     \u001b[38;5;28;01mreturn\u001b[39;00m \u001b[43mf\u001b[49m\u001b[43m(\u001b[49m\u001b[38;5;241;43m*\u001b[39;49m\u001b[43margs\u001b[49m\u001b[43m,\u001b[49m\u001b[43m \u001b[49m\u001b[38;5;241;43m*\u001b[39;49m\u001b[38;5;241;43m*\u001b[39;49m\u001b[43mkwargs\u001b[49m\u001b[43m)\u001b[49m\n\u001b[0;32m     41\u001b[0m \u001b[38;5;28;01mexcept\u001b[39;00m \u001b[38;5;167;01mTypeError\u001b[39;00m:\n\u001b[0;32m     42\u001b[0m     \u001b[38;5;28;01mreturn\u001b[39;00m \u001b[38;5;28mNotImplemented\u001b[39m\n",
            "File \u001b[1;32m~\\AppData\\Local\\Packages\\PythonSoftwareFoundation.Python.3.11_qbz5n2kfra8p0\\LocalCache\\local-packages\\Python311\\site-packages\\torch\\_tensor.py:941\u001b[0m, in \u001b[0;36mTensor.__rsub__\u001b[1;34m(self, other)\u001b[0m\n\u001b[0;32m    939\u001b[0m \u001b[38;5;129m@_handle_torch_function_and_wrap_type_error_to_not_implemented\u001b[39m\n\u001b[0;32m    940\u001b[0m \u001b[38;5;28;01mdef\u001b[39;00m \u001b[38;5;21m__rsub__\u001b[39m(\u001b[38;5;28mself\u001b[39m, other):\n\u001b[1;32m--> 941\u001b[0m     \u001b[38;5;28;01mreturn\u001b[39;00m \u001b[43m_C\u001b[49m\u001b[38;5;241;43m.\u001b[39;49m\u001b[43m_VariableFunctions\u001b[49m\u001b[38;5;241;43m.\u001b[39;49m\u001b[43mrsub\u001b[49m\u001b[43m(\u001b[49m\u001b[38;5;28;43mself\u001b[39;49m\u001b[43m,\u001b[49m\u001b[43m \u001b[49m\u001b[43mother\u001b[49m\u001b[43m)\u001b[49m\n",
            "\u001b[1;31mKeyboardInterrupt\u001b[0m: "
          ]
        }
      ],
      "source": [
        "from sklearn.metrics import f1_score\n",
        "dataset_torch = read_dataset().int()\n",
        "print('dataset_torch = [\\n{}\\n]'.format(dataset_torch))\n",
        "\n",
        "############################### USING GINI ################################\n",
        "USE_GINI = True\n",
        "\n",
        "print('[GINI] - Test CART with max_CART_depth=[3] and min_obs_per_leaf=[2]')\n",
        "tree_3 = train_CART(dataset_torch, name_xml = \"CART_example.xml\", max_CART_depth=3, min_obs_per_leaf=2)\n",
        "acc, predicted_values = test_CART(tree_3, dataset_torch)\n",
        "f1 = f1_score(dataset_torch[:,-1], predicted_values, average='weighted') \n",
        "\n",
        "print(f'[GINI] - Accuracy rate=[{acc}], f1_score=[{f1}]')\n",
        "\n",
        "#########\n",
        "\n",
        "print('[GINI] - Test CART with max_CART_depth=[4] and min_obs_per_leaf=[2]')\n",
        "tree_4 = train_CART(dataset_torch, name_xml = \"CART_example.xml\", max_CART_depth=4, min_obs_per_leaf=2)\n",
        "acc, predicted_values = test_CART(tree_4, dataset_torch)\n",
        "f1 = f1_score(dataset_torch[:,-1], predicted_values, average='weighted') \n",
        "\n",
        "print(f'[GINI] - Accuracy rate=[{acc}], f1_score=[{f1}]')\n",
        "\n",
        "############################### USING ENTROPY ################################\n",
        "USE_GINI = False\n",
        "\n",
        "print('[ENTROPY] - Test CART with max_CART_depth=[3] and min_obs_per_leaf=[2]')\n",
        "tree_3 = train_CART(dataset_torch, name_xml = \"CART_example.xml\", max_CART_depth=3, min_obs_per_leaf=2)\n",
        "acc, predicted_values = test_CART(tree_3, dataset_torch)\n",
        "f1 = f1_score(dataset_torch[:,-1], predicted_values, average='weighted') \n",
        "\n",
        "print(f'[ENTROPY] - Accuracy rate=[{acc}], f1_score=[{f1}]')\n",
        "\n",
        "#########\n",
        "\n",
        "print('[ENTROPY] - Test CART with max_CART_depth=[4] and min_obs_per_leaf=[2]')\n",
        "tree_4 = train_CART(dataset_torch, name_xml = \"CART_example.xml\", max_CART_depth=4, min_obs_per_leaf=2)\n",
        "acc, predicted_values = test_CART(tree_4, dataset_torch)\n",
        "f1 = f1_score(dataset_torch[:,-1], predicted_values, average='weighted') \n",
        "\n",
        "print(f'[ENTROPY] - Accuracy rate=[{acc}], f1_score=[{f1}]')"
      ]
    }
  ],
  "metadata": {
    "colab": {
      "provenance": []
    },
    "kernelspec": {
      "display_name": "Python 3 (ipykernel)",
      "language": "python",
      "name": "python3"
    },
    "language_info": {
      "codemirror_mode": {
        "name": "ipython",
        "version": 3
      },
      "file_extension": ".py",
      "mimetype": "text/x-python",
      "name": "python",
      "nbconvert_exporter": "python",
      "pygments_lexer": "ipython3",
      "version": "3.11.9"
    }
  },
  "nbformat": 4,
  "nbformat_minor": 0
}
