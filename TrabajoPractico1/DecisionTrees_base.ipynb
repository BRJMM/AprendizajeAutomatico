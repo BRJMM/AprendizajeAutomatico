{
  "cells": [
    {
      "cell_type": "code",
      "execution_count": 2,
      "metadata": {
        "id": "xqkkxFwaR6uO"
      },
      "outputs": [],
      "source": [
        "import torch\n",
        "import pandas\n",
        "import numpy as np"
      ]
    },
    {
      "cell_type": "code",
      "execution_count": null,
      "metadata": {
        "id": "1YOCBIryR6uR"
      },
      "outputs": [],
      "source": [
        "import pandas\n",
        "#dataset taken from https://www.kaggle.com/yashsawarn/wifi-stretgth-for-rooms\n",
        "\n",
        "def read_dataset(csv_name = 'wifi_localization.txt'):\n",
        "    \"\"\"\n",
        "    Reads a csv dataset\n",
        "    returns it as a pytorch tensor\n",
        "    \"\"\"\n",
        "    data_frame = pandas.read_table(csv_name, delim_whitespace=True, names=('A', 'B', 'C', 'D','E', 'F', 'G', 'ROOM'),\n",
        "                       dtype={'A': np.int64, 'B': np.float64, 'C': np.float64, 'D': np.float64,'E': np.float64,'F': np.float64,'G': np.float64,'ROOM': np.float64})\n",
        "\n",
        "    targets_torch = torch.tensor(data_frame['ROOM'].values)\n",
        "    dataset_torch = torch.tensor(data_frame.values)\n",
        "\n",
        "    return dataset_torch\n",
        "dataset_torch = read_dataset()\n",
        "\n"
      ]
    },
    {
      "cell_type": "code",
      "execution_count": null,
      "metadata": {
        "id": "h4N01puxR6uR",
        "outputId": "cda08844-94bb-4f3b-b92a-19e155814a54"
      },
      "outputs": [
        {
          "name": "stdout",
          "output_type": "stream",
          "text": [
            "tensor([[-64., -56., -61.,  ..., -82., -81.,   1.],\n",
            "        [-68., -57., -61.,  ..., -85., -85.,   1.],\n",
            "        [-63., -60., -60.,  ..., -85., -84.,   1.],\n",
            "        ...,\n",
            "        [-62., -59., -46.,  ..., -87., -88.,   4.],\n",
            "        [-62., -58., -52.,  ..., -90., -85.,   4.],\n",
            "        [-59., -50., -45.,  ..., -88., -87.,   4.]], dtype=torch.float64)\n"
          ]
        }
      ],
      "source": [
        "print(dataset_torch)"
      ]
    },
    {
      "cell_type": "code",
      "execution_count": 3,
      "metadata": {
        "id": "EZ8GFkT5R6uS"
      },
      "outputs": [],
      "source": [
        "class Node_CART:\n",
        "    def __init__(self, num_classes = 4, ref_CART = None, current_depth = 0):\n",
        "        \"\"\"\n",
        "        Create the node attributes\n",
        "        param num_classes: K number of classes to classify\n",
        "        param ref_cart: reference to the tree containing the node\n",
        "        param current_depth: current depth of the node in the tree\n",
        "        \"\"\"\n",
        "        self.ref_CART = ref_CART\n",
        "        self.threshold_value = 0\n",
        "        self.feature_num = 0\n",
        "        self.node_right = None\n",
        "        self.node_left = None\n",
        "        self.data_torch_partition = None\n",
        "        self.gini = 0\n",
        "        self.dominant_class = None\n",
        "        self.accuracy_dominant_class = None\n",
        "        self.num_classes = num_classes\n",
        "        self.current_depth = current_depth\n",
        "\n",
        "    def to_xml(self, current_str = \"\"):\n",
        "        \"\"\"\n",
        "        Recursive function to write the node content to an xml formatted string\n",
        "        param current_str : the xml content so far in the whole tree\n",
        "        return the string with the node content\n",
        "        \"\"\"\n",
        "        str_node = \"<node><thresh>\" + str(self.threshold_value) + \"</thresh>\" + \"<feature>\" + str(self.feature_num) + \"</feature><depth>\" + str(self.current_depth)+ \"</depth>\"\n",
        "        str_node += \"<gini>\" + str(self.gini) + \"</gini>\"\n",
        "        if(self.node_right != None):\n",
        "            str_left = self.node_right.to_xml(current_str)\n",
        "            str_node += str_left\n",
        "        if(self.node_left != None):\n",
        "            str_right = self.node_left.to_xml(current_str)\n",
        "            str_node += str_right\n",
        "\n",
        "        if(self.is_leaf()):\n",
        "            str_node += \"<dominant_class>\" + str(self.dominant_class) + \"</dominant_class><acc_dominant_class>\"  + str(self.accuracy_dominant_class) + \"</acc_dominant_class>\"\n",
        "        str_node += \"</node>\"\n",
        "        return str_node\n",
        "\n",
        "    def is_leaf(self):\n",
        "        \"\"\"\n",
        "        Checks whether the node is a leaf\n",
        "        \"\"\"\n",
        "        return (self.node_left == None and self.node_right == None)\n",
        "\n",
        "    def create_with_children(self, data_torch, current_depth, list_selected_features = [], min_gini = 0.000001):\n",
        "        \"\"\"\n",
        "        Creates a node by selecting the best feature and threshold, and if needed, creating its children\n",
        "        param data_torch: dataset with the current partition to deal with in the node\n",
        "        param current_depth: depth counter for the node\n",
        "        param list_selected_features: list of selected features so far for the CART building process\n",
        "        param min_gini: hyperparmeter selected by the user defining the minimum tolerated gini coefficient for a  node\n",
        "        return the list of selected features so far\n",
        "        \"\"\"\n",
        "\n",
        "\n",
        "        return list_selected_features\n",
        "\n",
        "\n",
        "    def select_best_feature_and_thresh(self, data_torch, list_features_selected = [], num_classes = 4):\n",
        "        \"\"\"\n",
        "        Selects the best feature and threshold that minimizes the gini coefficient\n",
        "        param data_torch: dataset partition to analyze\n",
        "        param list_features_selected list of features selected so far, thus must be ignored\n",
        "        param num_classes: number of K classes to discriminate from\n",
        "        return min_thresh, min_feature, min_gini found for the dataset partition when\n",
        "        selecting the found feature and threshold\n",
        "        \"\"\"\n",
        "\n",
        "        #TODO\n",
        "        #return selected cut\n",
        "        return (min_thresh, min_feature, min_gini)\n",
        "\n",
        "\n",
        "    def calculate_gini(self, data_partition_torch: torch.tensor, num_classes: int = 4):\n",
        "        \"\"\"\n",
        "        Calculates the gini coefficient for a given partition with the given number of classes\n",
        "        param data_partition_torch: current dataset partition as a tensor\n",
        "        param num_classes: K number of classes to discriminate from\n",
        "        returns the calculated gini coefficient\n",
        "        \"\"\"\n",
        "        COLUMN_INDEX = 7\n",
        "        class_coef = torch.zeros(num_classes)\n",
        "        data_size = data_partition_torch.shape[0]\n",
        "        for gini_class in range(1, num_classes+1, 1):\n",
        "            class_coef[gini_class-1] = ((data_partition_torch[:, COLUMN_INDEX] == gini_class).sum().item() / data_size)**2\n",
        "        return torch.tensor(1.0 - class_coef.sum().item())\n",
        "\n",
        "    def calculate_entropy(self, data_partition_torch, num_classes = 4):\n",
        "        \"\"\"\n",
        "        Calculates the entropy for a given partition with the given number of classes\n",
        "        param data_partition_torch: current dataset partition as a tensor\n",
        "        param num_classes: K number of classes to discriminate from\n",
        "        returns the calculated entropy\n",
        "        \"\"\"\n",
        "        labels = data_partition_torch[:, -1]\n",
        "        #print('labes: ', labels)\n",
        "        # We dont have a 0 label.\n",
        "        class_counts = torch.bincount(labels)[1:]\n",
        "        #print('class counts: ', class_counts)\n",
        "        p_k = (class_counts/labels.shape[0])\n",
        "        entropy = -1*torch.sum(p_k*torch.log(p_k))\n",
        "        #print('entropy: ', entropy)\n",
        "        return entropy\n",
        "\n",
        "    def evaluate_node(self, input_torch):\n",
        "        \"\"\"\n",
        "        Evaluates an input observation within the node.\n",
        "        If is not a leaf node, send it to the corresponding node\n",
        "        return predicted label\n",
        "        \"\"\"\n",
        "        feature_val_input = input_torch[self.feature_num]\n",
        "        if(self.is_leaf()):\n",
        "            return self.dominant_class\n",
        "        else:\n",
        "            if(feature_val_input < self.threshold_value):\n",
        "                return self.node_left.evaluate_node(input_torch)\n",
        "            else:\n",
        "                return self.node_right.evaluate_node(input_torch)\n",
        "\n",
        "\n",
        "class CART:\n",
        "    def __init__(self, dataset_torch, max_CART_depth, min_observations = 2):\n",
        "        \"\"\"\n",
        "        CART has only one root node\n",
        "        \"\"\"\n",
        "        #min observations per node\n",
        "        self.min_observations = min_observations\n",
        "        self.root = Node_CART(num_classes = 4, ref_CART = self, current_depth = 0)\n",
        "        self.max_CART_depth = max_CART_depth\n",
        "        self.list_selected_features = []\n",
        "\n",
        "    def get_root(self):\n",
        "        \"\"\"\n",
        "        Gets tree root\n",
        "        \"\"\"\n",
        "        return self.root\n",
        "\n",
        "    def get_min_observations(self):\n",
        "        \"\"\"\n",
        "        return min observations per node\n",
        "        \"\"\"\n",
        "        return self.min_observations\n",
        "\n",
        "    def get_max_depth(self):\n",
        "        \"\"\"\n",
        "        Gets the selected max depth of the tree\n",
        "        \"\"\"\n",
        "        return self.max_CART_depth\n",
        "\n",
        "    def build_CART(self, data_torch):\n",
        "        \"\"\"\n",
        "        Build CART from root\n",
        "        \"\"\"\n",
        "        self.list_selected_features = self.root.create_with_children(data_torch, current_depth = 0)\n",
        "\n",
        "    def to_xml(self, xml_file_name):\n",
        "        \"\"\"\n",
        "        write Xml file with tree content\n",
        "        \"\"\"\n",
        "        str_nodes = self.root.to_xml()\n",
        "        file = open(xml_file_name,\"w+\")\n",
        "        file.write(str_nodes)\n",
        "        file.close()\n",
        "        return str_nodes\n",
        "\n",
        "\n",
        "    def evaluate_input(self, input_torch):\n",
        "        \"\"\"\n",
        "        Evaluate a specific input in the tree and get the predicted class\n",
        "        \"\"\"\n",
        "        return self.root.evaluate_node(input_torch)\n",
        "\n",
        "\n",
        "def train_CART(dataset_torch, name_xml = \"\", max_CART_depth = 3, min_obs_per_leaf = 2):\n",
        "    \"\"\"\n",
        "    Train CART model\n",
        "    \"\"\"\n",
        "    tree = CART(dataset_torch = dataset_torch, max_CART_depth = max_CART_depth, min_observations =  min_obs_per_leaf)\n",
        "    tree.build_CART(dataset_torch)\n",
        "    if(not name_xml == \"\"):\n",
        "        tree.to_xml(name_xml)\n",
        "    return tree\n",
        "\n",
        "def test_CART(tree, testset_torch):\n",
        "    \"\"\"\n",
        "    Test a previously built CART\n",
        "    \"\"\"\n",
        "    #TODO, use tree.evaluate_input(current_observation) for this\n",
        "    return accuracy\n",
        "\n",
        "\n",
        "\n",
        "#tree = train_CART(dataset_torch, name_xml = \"CART_example.xml\")\n",
        "#acc = test_CART(tree, dataset_torch)\n",
        "\n",
        "\n",
        "\n",
        ""
      ]
    },
    {
      "cell_type": "markdown",
      "metadata": {
        "id": "9ZDmgW8mR6uT"
      },
      "source": [
        "## Gini Unittest"
      ]
    },
    {
      "cell_type": "code",
      "execution_count": 4,
      "metadata": {
        "colab": {
          "base_uri": "https://localhost:8080/"
        },
        "id": "qQfzXD_TR6uU",
        "outputId": "efbda156-9342-42f6-d936-48dfcf733949"
      },
      "outputs": [
        {
          "output_type": "stream",
          "name": "stderr",
          "text": [
            "test_fourClassesOneDataPerClass (__main__.GiniUnitTest) ... ok\n",
            "test_fourClassesOnlyThreeClassesWithData (__main__.GiniUnitTest) ... ok\n",
            "test_fourClassesOnlyTwoClassesWithData (__main__.GiniUnitTest) ... ok\n",
            "test_singleClassOneData (__main__.GiniUnitTest) ... ok\n",
            "test_twoClassesOneDataPerClass (__main__.GiniUnitTest) ... ok\n",
            "test_twoClassesOnlyOneClassWithData (__main__.GiniUnitTest) ... ok\n",
            "\n",
            "----------------------------------------------------------------------\n",
            "Ran 6 tests in 0.176s\n",
            "\n",
            "OK\n"
          ]
        },
        {
          "output_type": "execute_result",
          "data": {
            "text/plain": [
              "<unittest.main.TestProgram at 0x781f6c376f80>"
            ]
          },
          "metadata": {},
          "execution_count": 4
        }
      ],
      "source": [
        "import unittest\n",
        "\n",
        "class GiniUnitTest(unittest.TestCase):\n",
        "\n",
        "    def test_singleClassOneData(self):\n",
        "      data = torch.tensor([[-64, -56,\t-61,\t-66,\t-71,\t-82,\t-81,\t1]])\n",
        "      node = Node_CART()\n",
        "      gini_result = node.calculate_gini(data, num_classes=1)\n",
        "      self.assertTrue(torch.equal(gini_result, torch.tensor(0.0)))\n",
        "\n",
        "    def test_twoClassesOneDataPerClass(self):\n",
        "      data = torch.tensor([[-64, -56,\t-61,\t-66,\t-71,\t-82,\t-81,\t1], [-64, -56,\t-61,\t-66,\t-71,\t-82,\t-81,\t2]])\n",
        "      node = Node_CART()\n",
        "      gini_result = node.calculate_gini(data, num_classes=2)\n",
        "      self.assertTrue(torch.equal(gini_result, torch.tensor(0.5)))\n",
        "\n",
        "    def test_twoClassesOnlyOneClassWithData(self):\n",
        "      data = torch.tensor([[-64, -56,\t-61,\t-66,\t-71,\t-82,\t-81,\t1], [-64, -56,\t-61,\t-66,\t-71,\t-82,\t-81,\t1]])\n",
        "      node = Node_CART()\n",
        "      gini_result = node.calculate_gini(data, num_classes=2)\n",
        "      self.assertTrue(torch.equal(gini_result, torch.tensor(0.0)))\n",
        "\n",
        "    def test_fourClassesOneDataPerClass(self):\n",
        "      data = torch.tensor([[-64, -56,\t-61,\t-66,\t-71,\t-82,\t-81,\t1], [-64, -56,\t-61,\t-66,\t-71,\t-82,\t-81,\t2], [-64, -56,\t-61,\t-66,\t-71,\t-82,\t-81,\t3], [-64, -56,\t-61,\t-66,\t-71,\t-82,\t-81,\t4]])\n",
        "      node = Node_CART()\n",
        "      gini_result = node.calculate_gini(data, num_classes=4)\n",
        "      self.assertTrue(torch.equal(gini_result, torch.tensor(0.75)))\n",
        "\n",
        "    def test_fourClassesOnlyTwoClassesWithData(self):\n",
        "      data = torch.tensor([[-64, -56,\t-61,\t-66,\t-71,\t-82,\t-81,\t1], [-64, -56,\t-61,\t-66,\t-71,\t-82,\t-81,\t1], [-64, -56,\t-61,\t-66,\t-71,\t-82,\t-81,\t4], [-64, -56,\t-61,\t-66,\t-71,\t-82,\t-81,\t4]])\n",
        "      node = Node_CART()\n",
        "      gini_result = node.calculate_gini(data, num_classes=4)\n",
        "      self.assertTrue(torch.equal(gini_result, torch.tensor(0.5)))\n",
        "\n",
        "    def test_fourClassesOnlyThreeClassesWithData(self):\n",
        "      data = torch.tensor([[-64, -56,\t-61,\t-66,\t-71,\t-82,\t-81,\t1], [-64, -56,\t-61,\t-66,\t-71,\t-82,\t-81,\t1], [-64, -56,\t-61,\t-66,\t-71,\t-82,\t-81,\t3], [-64, -56,\t-61,\t-66,\t-71,\t-82,\t-81,\t4]])\n",
        "      node = Node_CART()\n",
        "      gini_result = node.calculate_gini(data, num_classes=4)\n",
        "      self.assertTrue(torch.equal(gini_result, torch.tensor(0.625)))\n",
        "\n",
        "unittest.main(argv=[''], verbosity=2, exit=False)"
      ]
    },
    {
      "cell_type": "markdown",
      "source": [
        "# Entropy Unit Test"
      ],
      "metadata": {
        "id": "e49nDiY_VPKs"
      }
    },
    {
      "cell_type": "code",
      "source": [
        "class EntropyUnitTest(unittest.TestCase):\n",
        "\n",
        "    def test_oneClassOneData(self):\n",
        "      data = torch.tensor([[-64, -56,\t-61,\t-66,\t-71,\t-82,\t-81,\t1]])\n",
        "      node = Node_CART()\n",
        "      entropy_result = node.calculate_entropy(data, num_classes=1)\n",
        "      self.assertTrue(torch.equal(entropy_result, torch.tensor(0.0)))\n",
        "    def test_twoClassesOneDataPerClass(self):\n",
        "      data = torch.tensor([[-64, -56,\t-61,\t-66,\t-71,\t-82,\t-81,\t1],[-64, -56,\t-61,\t-66,\t-71,\t-82,\t-81,\t2]])\n",
        "      node = Node_CART()\n",
        "      entropy_result = node.calculate_entropy(data, num_classes=1)\n",
        "      self.assertTrue(torch.equal(entropy_result, torch.log(torch.tensor(2))))\n",
        "    def test_fourClassesOneDataPerClass(self):\n",
        "      data = torch.tensor([[-64, -56,\t-61,\t-66,\t-71,\t-82,\t-81,\t1], [-64, -56,\t-61,\t-66,\t-71,\t-82,\t-81,\t2], [-64, -56,\t-61,\t-66,\t-71,\t-82,\t-81,\t3], [-64, -56,\t-61,\t-66,\t-71,\t-82,\t-81,\t4]])\n",
        "      node = Node_CART()\n",
        "      entropy_result = node.calculate_entropy(data, num_classes=4)\n",
        "      self.assertTrue(torch.equal(entropy_result, torch.log(torch.tensor(4))))\n",
        "\n",
        "unittest.main(argv=[''], verbosity=2, exit=False)"
      ],
      "metadata": {
        "colab": {
          "base_uri": "https://localhost:8080/"
        },
        "id": "-o61zW_bVOCh",
        "outputId": "b0036ddc-9346-4517-c139-4a655e25f157"
      },
      "execution_count": 10,
      "outputs": [
        {
          "output_type": "stream",
          "name": "stderr",
          "text": [
            "test_fourClassesOneDataPerClass (__main__.EntropyUnitTest) ... ok\n",
            "test_oneClassOneData (__main__.EntropyUnitTest) ... ok\n",
            "test_twoClassesOneDataPerClass (__main__.EntropyUnitTest) ... ok\n",
            "test_fourClassesOneDataPerClass (__main__.GiniUnitTest) ... ok\n",
            "test_fourClassesOnlyThreeClassesWithData (__main__.GiniUnitTest) ... ok\n",
            "test_fourClassesOnlyTwoClassesWithData (__main__.GiniUnitTest) ... ok\n",
            "test_singleClassOneData (__main__.GiniUnitTest) ... ok\n",
            "test_twoClassesOneDataPerClass (__main__.GiniUnitTest) ... ok\n",
            "test_twoClassesOnlyOneClassWithData (__main__.GiniUnitTest) ... ok\n",
            "\n",
            "----------------------------------------------------------------------\n",
            "Ran 9 tests in 0.040s\n",
            "\n",
            "OK\n"
          ]
        },
        {
          "output_type": "stream",
          "name": "stdout",
          "text": [
            "labes:  tensor([1, 2, 3, 4])\n",
            "class counts:  tensor([1, 1, 1, 1])\n",
            "entropy:  tensor(1.3863)\n",
            "labes:  tensor([1])\n",
            "class counts:  tensor([1])\n",
            "entropy:  tensor(-0.)\n",
            "labes:  tensor([1, 2])\n",
            "class counts:  tensor([1, 1])\n",
            "entropy:  tensor(0.6931)\n"
          ]
        },
        {
          "output_type": "execute_result",
          "data": {
            "text/plain": [
              "<unittest.main.TestProgram at 0x781f6c374820>"
            ]
          },
          "metadata": {},
          "execution_count": 10
        }
      ]
    },
    {
      "cell_type": "code",
      "execution_count": null,
      "metadata": {
        "id": "6wJxkmdtR6uU",
        "outputId": "b82533e3-0689-4df8-b943-2250dd444945"
      },
      "outputs": [
        {
          "name": "stdout",
          "output_type": "stream",
          "text": [
            "dataset_example \n",
            " tensor([[ 3.0000, 22.0000,  7.2000,  0.0000],\n",
            "        [ 1.0000, 38.0000, 71.3000,  0.0000],\n",
            "        [ 3.0000, 26.0000,  7.9000,  1.0000],\n",
            "        [ 1.0000, 35.0000, 53.1000,  0.0000]])\n"
          ]
        }
      ],
      "source": [
        "dataset_example = torch.tensor([[3, 22.0, 7.2, 0], [1, 38, 71.3, 0], [3, 26, 7.9, 1], [1, 35, 53.1, 0]])\n",
        "print(\"dataset_example \\n\", dataset_example)\n"
      ]
    },
    {
      "cell_type": "code",
      "execution_count": null,
      "metadata": {
        "id": "ttLcOpf1R6uV",
        "outputId": "5ef6a236-03bf-41d6-cd18-77ad12be2304"
      },
      "outputs": [
        {
          "name": "stdout",
          "output_type": "stream",
          "text": [
            "root node \n",
            "  tensor([[ 3.0000, 22.0000,  7.2000,  0.0000],\n",
            "        [ 1.0000, 38.0000, 71.3000,  0.0000],\n",
            "        [ 3.0000, 26.0000,  7.9000,  1.0000],\n",
            "        [ 1.0000, 35.0000, 53.1000,  0.0000]])\n",
            "xml_root_node \n",
            " <node><thresh>0</thresh><feature>0</feature><depth>0</depth><gini>0</gini><dominant_class>None</dominant_class><acc_dominant_class>None</acc_dominant_class></node>\n"
          ]
        }
      ],
      "source": [
        "root_node = Node_CART()\n",
        "root_node.data_torch_partition = dataset_example\n",
        "\n",
        "print(\"root node \\n \", root_node.data_torch_partition)\n",
        "xml_root_node = root_node.to_xml()\n",
        "\n",
        "print(\"xml_root_node \\n\", xml_root_node)"
      ]
    },
    {
      "cell_type": "code",
      "execution_count": null,
      "metadata": {
        "id": "5EwomtGAR6uV",
        "outputId": "63d7fd0e-0598-4953-8920-5c41537afb3c"
      },
      "outputs": [
        {
          "name": "stdout",
          "output_type": "stream",
          "text": [
            "dataset_partition_left \n",
            " tensor([[ 1.0000, 38.0000, 71.3000,  0.0000],\n",
            "        [ 1.0000, 35.0000, 53.1000,  0.0000]])\n",
            "dataset_partition_right \n",
            " tensor([[ 3.0000, 22.0000,  7.2000,  0.0000],\n",
            "        [ 3.0000, 26.0000,  7.9000,  1.0000]])\n"
          ]
        }
      ],
      "source": [
        "root_node.threshold_value = 3\n",
        "root_node.feature_num = 0\n",
        "\n",
        "#indices of left and right partitions\n",
        "left_idxs = dataset_example[:, root_node.feature_num] < root_node.threshold_value\n",
        "right_idxs = dataset_example[:, root_node.feature_num] >= root_node.threshold_value\n",
        "#data partitions\n",
        "dataset_partition_left = dataset_example[left_idxs]\n",
        "dataset_partition_right = dataset_example[right_idxs]\n",
        "\n",
        "print(\"dataset_partition_left \\n\", dataset_partition_left)\n",
        "print(\"dataset_partition_right \\n\", dataset_partition_right)\n",
        "#create left child\n",
        "left_child = Node_CART(current_depth = 1)\n",
        "left_child.data_torch_partition = dataset_partition_left\n",
        "root_node.node_left = left_child\n",
        "#create right child\n",
        "right_child = Node_CART(current_depth = 1)\n",
        "right_child.data_torch_partition = dataset_partition_right\n",
        "root_node.node_right = right_child\n",
        "#write xml example\n",
        "root_node.ref_CART = root_node\n",
        "xml_string = root_node.to_xml()\n",
        "\n",
        "#print(xml_string)\n",
        "file = open(\"example1.xml\", \"a\")\n",
        "file.write(xml_string)\n",
        "file.close()\n"
      ]
    },
    {
      "cell_type": "code",
      "execution_count": null,
      "metadata": {
        "id": "t5pmR6jdR6uV",
        "outputId": "a3c1c2f0-228b-4471-96b2-ebc8ef7dedab"
      },
      "outputs": [
        {
          "name": "stdout",
          "output_type": "stream",
          "text": [
            "<node><thresh>3</thresh><feature>0</feature><depth>0</depth><gini>0</gini><node><thresh>0</thresh><feature>0</feature><depth>1</depth><gini>0</gini><dominant_class>None</dominant_class><acc_dominant_class>None</acc_dominant_class></node><node><thresh>0</thresh><feature>0</feature><depth>1</depth><gini>0</gini><dominant_class>None</dominant_class><acc_dominant_class>None</acc_dominant_class></node></node>\n"
          ]
        }
      ],
      "source": [
        "print(xml_string)"
      ]
    },
    {
      "cell_type": "code",
      "execution_count": null,
      "metadata": {
        "id": "kBlzemx8R6uW",
        "outputId": "a383274d-989a-403a-fa00-50d40f72e7c7"
      },
      "outputs": [
        {
          "name": "stdout",
          "output_type": "stream",
          "text": [
            "gini_left:  0.0 gini_right:  0.5 gini_total:  0.25\n",
            "gini_total  0.25\n"
          ]
        }
      ],
      "source": [
        "def calculate_gini(node_left, node_right):\n",
        "  size_left = node_left.data_torch_partition.shape[0]\n",
        "  size_right = node_right.data_torch_partition.shape[0]\n",
        "  size_total = size_left + size_right\n",
        "  gini_left = 1 - (((node_left.data_torch_partition[:, 3] == 0).sum().item() / size_left)**2 + ((node_left.data_torch_partition[:, 3] == 1).sum().item()/size_left)**2)\n",
        "  gini_right = 1 - (((node_right.data_torch_partition[:, 3] == 0).sum().item() / size_right)**2 + ((node_right.data_torch_partition[:, 3] == 1).sum().item()/size_right)**2)\n",
        "  gini_total = (size_left / size_total * gini_left) + (size_right / size_total * gini_right)\n",
        "  print(\"gini_left: \", gini_left, \"gini_right: \", gini_right, \"gini_total: \", gini_total)\n",
        "  return gini_total\n",
        "gini_total = calculate_gini(left_child, right_child)\n",
        "print(\"gini_total \", gini_total)"
      ]
    }
  ],
  "metadata": {
    "kernelspec": {
      "display_name": "Python 3 (ipykernel)",
      "language": "python",
      "name": "python3"
    },
    "language_info": {
      "codemirror_mode": {
        "name": "ipython",
        "version": 3
      },
      "file_extension": ".py",
      "mimetype": "text/x-python",
      "name": "python",
      "nbconvert_exporter": "python",
      "pygments_lexer": "ipython3",
      "version": "3.11.2"
    },
    "colab": {
      "provenance": []
    }
  },
  "nbformat": 4,
  "nbformat_minor": 0
}